{
 "cells": [
  {
   "cell_type": "markdown",
   "id": "7e63a05a",
   "metadata": {},
   "source": [
    "# Advenced topics"
   ]
  },
  {
   "cell_type": "markdown",
   "id": "014966cb",
   "metadata": {},
   "source": [
    "# Iterators"
   ]
  },
  {
   "cell_type": "markdown",
   "id": "6d3e864a",
   "metadata": {},
   "source": [
    "Iterators (iteradores) são objetos que permitem a iteração sequencial sobre um conjunto de elementos. Eles fornecem um meio de acessar os elementos de uma coleção um por um, sem a necessidade de expor a estrutura interna dessa coleção. Os iteradores são amplamente utilizados em Python para percorrer elementos de sequências como listas, strings, dicionários, conjuntos e muito mais.\n",
    "\n",
    "Para entender melhor o conceito de iteradores, é importante compreender dois métodos principais associados a eles:\n",
    "\n",
    "1. **Método `__iter__`:** É um método especial que retorna o próprio objeto iterador. Ele é chamado quando um iterador é inicializado ou quando a função `iter()` é aplicada a um objeto. O método `__iter__` deve ser implementado em uma classe para torná-la iterável.\n",
    "\n",
    "2. **Método `__next__`:** É outro método especial que retorna o próximo elemento na sequência. Ele é chamado a cada iteração do loop `for` ou quando a função `next()` é aplicada a um iterador. O método `__next__` deve ser implementado em uma classe iteradora para definir o comportamento de obtenção dos próximos elementos.\n",
    "\n",
    "Aqui está um exemplo que ilustra o uso de iteradores em Python. A classe MeuIterador implementa um iterador personalizado para percorrer os elementos de uma coleção:\n",
    "\n",
    "```python\n",
    "class MeuIterador:\n",
    "    def __init__(self, colecao):\n",
    "        self.colecao = colecao  # Armazena a coleção passada como parâmetro\n",
    "        self.indice = 0  # Inicializa o índice para controlar a posição atual\n",
    "\n",
    "    def __iter__(self):\n",
    "        return self  # Retorna o próprio objeto iterador quando chamado o método __iter__\n",
    "\n",
    "    def __next__(self):\n",
    "        if self.indice < len(self.colecao):  # Verifica se há mais elementos a serem iterados\n",
    "            elemento = self.colecao[self.indice]  # Obtém o elemento na posição atual\n",
    "            self.indice += 1  # Avança o índice para a próxima posição\n",
    "            return elemento  # Retorna o elemento atual\n",
    "        else:\n",
    "            raise StopIteration  # Lança uma exceção StopIteration quando todos os elementos foram percorridos\n",
    "\n",
    "# Cria uma lista            \n",
    "lista = [1, 2, 3, 4, 5]\n",
    "\n",
    "# Cria um iterador para a lista usando a classe MeuIterador\n",
    "iterador = iter(MeuIterador(lista))\n",
    "for elemento in iterador:  # Itera sobre os elementos da lista usando o iterador\n",
    "    print(elemento)  # Imprime cada elemento\n",
    "\n",
    "# Output:\n",
    "# 1\n",
    "# 2\n",
    "# 3\n",
    "# 4\n",
    "# 5\n",
    "```\n",
    "\n",
    "Neste exemplo, criamos uma classe `MeuIterador` que implementa os métodos `__iter__` e `__next__`. O método `__iter__` retorna o próprio objeto iterador, enquanto o método `__next__` retorna o próximo elemento da coleção, avançando o índice a cada iteração.\n",
    "\n",
    "Em seguida, criamos uma lista e inicializamos um iterador para essa lista usando a classe `MeuIterador`. Finalmente, percorremos os elementos da lista usando o iterador em um loop `for`. A cada iteração, o método `__next__` é chamado para obter o próximo elemento da lista, até que todos os elementos sejam percorridos.\n",
    "\n",
    "Os iteradores fornecem uma maneira flexível e eficiente de percorrer coleções de dados em Python. Eles são amplamente utilizados em loops `for` e em muitas funções e bibliotecas do Python que lidam com iteração e processamento de sequências de elementos."
   ]
  },
  {
   "cell_type": "markdown",
   "id": "2f3f414a",
   "metadata": {},
   "source": [
    "# RegEx"
   ]
  },
  {
   "cell_type": "markdown",
   "id": "b79f0c13",
   "metadata": {},
   "source": [
    "RegEx, ou Expressões Regulares, são sequências de caracteres que definem um padrão de busca em textos. Elas fornecem uma maneira flexível e poderosa de procurar, encontrar e manipular strings com base em critérios específicos.\n",
    "\n",
    "As RegEx consistem em um conjunto de regras e metacaracteres que definem padrões de correspondência. Esses padrões podem incluir caracteres literais, classes de caracteres, quantificadores, metacaracteres especiais e muito mais. As RegEx são amplamente utilizadas em linguagens de programação e ferramentas de manipulação de texto para realizar tarefas como validação de entrada, busca e substituição de padrões e extração de informações.\n",
    "\n",
    "Aqui estão alguns elementos comuns usados em RegEx:\n",
    "\n",
    "- Caracteres Literais: Correspondem a caracteres específicos. Por exemplo, a RegEx `abc` corresponde à sequência \"abc\" em um texto.\n",
    "\n",
    "- Classes de Caracteres: São usadas para corresponder a um conjunto de caracteres. Por exemplo, `[abc]` corresponde a qualquer um dos caracteres \"a\", \"b\" ou \"c\".\n",
    "\n",
    "- Metacaracteres: São caracteres especiais com significados especiais. Alguns exemplos incluem `.` (corresponde a qualquer caractere), `*` (corresponde a zero ou mais ocorrências), `+` (corresponde a uma ou mais ocorrências), `?` (corresponde a zero ou uma ocorrência) e `|` (corresponde a uma das expressões alternativas).\n",
    "\n",
    "- Âncoras: São usadas para definir a posição de correspondência no texto. Por exemplo, `^` corresponde ao início da string e `$` corresponde ao final da string.\n",
    "\n",
    "- Quantificadores: Permitem especificar o número de ocorrências de um padrão. Alguns exemplos incluem `{n}` (corresponde a exatamente n ocorrências), `{n,}` (corresponde a pelo menos n ocorrências) e `{n,m}` (corresponde a um mínimo de n e um máximo de m ocorrências).\n",
    "\n",
    "Aqui está um exemplo de uso de RegEx em Python:\n",
    "\n",
    "```python\n",
    "import re\n",
    "texto = \"Olá, meu número de telefone é (123) 456-7890.\"\n",
    "padrao = r\"\\(\\d{3}\\) \\d{3}-\\d{4}\"\n",
    "resultados = re.findall(padrao, texto)\n",
    "print(resultados)\n",
    "```\n",
    "\n",
    "Neste exemplo, usamos o módulo `re` do Python para buscar números de telefone em um texto. Definimos um padrão de correspondência usando uma RegEx, representado pela sequência `\"\\(\\d{3}\\) \\d{3}-\\d{4}\"`. Essa RegEx corresponde a um número de telefone no formato \"(DDD) DDD-DDDD\", onde D representa um dígito.\n",
    "\n",
    "Em seguida, usamos a função `findall` do módulo `re` para buscar todos os padrões correspondentes no texto. Os resultados são armazenados na variável `resultados` e impressos na saída.\n",
    "\n",
    "No exemplo acima, se o texto contiver um número de telefone válido, como \"(123) 456-7890\", ele será retornado como resultado.\n",
    "\n",
    "As RegEx podem se tornar complexas e poderosas, permitindo a criação de padrões de busca sofisticados. Elas são amplamente utilizadas em várias áreas, como análise de dados,\n",
    "\n",
    " processamento de texto, extração de informações e validação de entradas. A compreensão e o uso das RegEx podem facilitar bastante a manipulação e a extração de informações de strings de texto."
   ]
  },
  {
   "cell_type": "markdown",
   "id": "98c7de23",
   "metadata": {},
   "source": [
    "# Decoratores"
   ]
  },
  {
   "cell_type": "markdown",
   "id": "8f360658",
   "metadata": {
    "ExecuteTime": {
     "end_time": "2023-06-06T22:11:50.058082Z",
     "start_time": "2023-06-06T22:11:50.052333Z"
    }
   },
   "source": [
    "Decorators, em Python, são uma maneira de modificar ou estender o comportamento de funções ou classes sem alterar seu código subjacente. Eles permitem adicionar funcionalidades extras a uma função ou classe de forma transparente, aplicando uma sintaxe especial usando o símbolo `@`.\n",
    "\n",
    "Um decorator é **uma função que recebe outra função como argumento e retorna uma nova função com funcionalidades adicionais**. Essa nova função pode encapsular a função original e executar código adicional antes, depois ou ao redor da chamada da função original. Dessa forma, o decorator pode estender o comportamento da função original sem a necessidade de modificá-la diretamente.\n",
    "\n",
    "Aqui está um exemplo básico de um decorator em Python:\n",
    "\n",
    "```python\n",
    "def decorator(func):\n",
    "    def wrapper():\n",
    "        print(\"Executando código antes da função original.\")\n",
    "        func()\n",
    "        print(\"Executando código depois da função original.\")\n",
    "    return wrapper\n",
    "\n",
    "@decorator\n",
    "def minha_funcao():\n",
    "    print(\"Executando minha função.\")\n",
    "\n",
    "# Chamando a função decorada\n",
    "minha_funcao()\n",
    "```\n",
    "\n",
    "Nesse exemplo, definimos um decorator chamado `decorator`. Ele recebe uma função como argumento e retorna uma nova função chamada `wrapper`. Essa função `wrapper` envolve a função original `minha_funcao` e adiciona código extra antes e depois da sua execução.\n",
    "\n",
    "Usando a sintaxe `@decorator`, aplicamos o decorator à função `minha_funcao`. Agora, quando chamamos `minha_funcao()`, a função `wrapper` é chamada em vez da função original. Isso permite que o decorator execute código extra antes e depois da execução da função original.\n",
    "\n",
    "Os decorators são comumente usados para:\n",
    "\n",
    "- Adicionar lógica de registro ou monitoramento de funções.\n",
    "- Realizar validações de entrada ou saída.\n",
    "- Realizar autenticação ou autorização.\n",
    "- Medir o tempo de execução de uma função.\n",
    "- Implementar memoização (caching) de resultados.\n",
    "- Implementar políticas de repetição ou recuperação de erros.\n",
    "\n",
    "Python possui uma sintaxe de açúcar sintático* para aplicar múltiplos decorators a uma função, usando a pilha de decorators. Por exemplo:\n",
    "\n",
    "```python\n",
    "@decorator1\n",
    "@decorator2\n",
    "def minha_funcao():\n",
    "    # código da função\n",
    "```\n",
    "\n",
    "Nesse caso, `decorator2` é aplicado primeiro à função `minha_funcao`, seguido por `decorator1`. A função resultante é a composição desses decorators.\n",
    "\n",
    "Os decorators são uma poderosa ferramenta de programação em Python, permitindo a extensão e a personalização do comportamento de funções ou classes. Eles promovem a reutilização de código e a separação de preocupações, tornando o código mais modular e fácil de entender e manter."
   ]
  },
  {
   "cell_type": "markdown",
   "id": "bffc6725",
   "metadata": {},
   "source": [
    "A sintaxe de açúcar sintático, também conhecida como sugar syntax ou syntactic sugar em inglês, é uma forma mais concisa ou conveniente de escrever um código que não altera sua funcionalidade subjacente. É uma maneira de expressar uma construção em uma linguagem de programação de forma mais legível, expressiva ou intuitiva.\n",
    "\n",
    "A sintaxe de açúcar sintático não adiciona recursos ou funcionalidades novas à linguagem, mas simplifica ou abstrai a sintaxe existente para facilitar o uso e a compreensão do código. Ela visa melhorar a legibilidade e a expressividade do código, reduzindo a necessidade de escrever construções mais verbosas ou complexas.\n",
    "\n",
    "Um exemplo comum de sintaxe de açúcar sintático em Python é o uso do operador `+=` para atualizar o valor de uma variável. Em vez de escrever `x = x + 1`, podemos usar a forma mais concisa `x += 1`. Essa sintaxe de açúcar sintático oferece uma maneira mais direta e expressiva de incrementar o valor de uma variável.\n",
    "\n",
    "Outro exemplo é a sintaxe de list comprehension em Python. Em vez de escrever um loop `for` e uma lista temporária para criar uma nova lista com base em outra, podemos usar a sintaxe de list comprehension para criar a nova lista de forma mais compacta e legível. Por exemplo:\n",
    "\n",
    "```python\n",
    "# Usando loop tradicional\n",
    "numeros = [1, 2, 3, 4, 5]\n",
    "dobro = []\n",
    "for num in numeros:\n",
    "    dobro.append(num * 2)\n",
    "\n",
    "# Usando list comprehension\n",
    "numeros = [1, 2, 3, 4, 5]\n",
    "dobro = [num * 2 for num in numeros]\n",
    "```\n",
    "\n",
    "Nesse exemplo, a sintaxe de list comprehension nos permite criar a lista `dobro` de forma mais concisa e legível, eliminando a necessidade de criar uma lista temporária e usar um loop explícito.\n",
    "\n",
    "A sintaxe de açúcar sintático não altera a funcionalidade ou o comportamento do código, apenas oferece uma maneira mais amigável de escrevê-lo. É importante destacar que a sintaxe de açúcar sintático pode variar de uma linguagem de programação para outra e pode ser uma característica específica de uma determinada linguagem.\n",
    "\n",
    "Em resumo, a sintaxe de açúcar sintático é uma forma mais conveniente, expressiva ou legível de escrever código, mantendo a mesma funcionalidade subjacente. Ela ajuda a simplificar e a tornar o código mais conciso e compreensível."
   ]
  },
  {
   "cell_type": "markdown",
   "id": "00b1db26",
   "metadata": {},
   "source": [
    "# Lambdas"
   ]
  },
  {
   "cell_type": "markdown",
   "id": "d9caebf8",
   "metadata": {},
   "source": [
    "Lambda functions, também conhecidas como funções anônimas, são funções de uma única expressão definidas em uma única linha, sem a necessidade de um nome formal. Elas são uma forma concisa de criar funções pequenas e simples em Python.\n",
    "\n",
    "A sintaxe básica de uma lambda function é a seguinte:\n",
    "\n",
    "```python\n",
    "lambda arguments: expression\n",
    "```\n",
    "\n",
    "Uma lambda function consiste em três partes principais:\n",
    "- A palavra-chave `lambda`, que indica o início da definição da função.\n",
    "- Uma lista de argumentos separados por vírgulas, que são os parâmetros da função.\n",
    "- Uma expressão, que é o corpo da função e retorna um valor.\n",
    "\n",
    "A lambda function é definida como uma expressão que é avaliada e retorna um valor quando chamada. Ela pode ser atribuída a uma variável e usada como qualquer outra função.\n",
    "\n",
    "Aqui está um exemplo simples de uma lambda function que retorna o dobro de um número:\n",
    "\n",
    "```python\n",
    "dobro = lambda x: x * 2\n",
    "\n",
    "resultado = dobro(5)\n",
    "print(resultado)  # Output: 10\n",
    "```\n",
    "\n",
    "Nesse exemplo, definimos uma lambda function chamada `dobro` que recebe um argumento `x` e retorna o dobro desse valor. Em seguida, chamamos a função passando o valor `5` como argumento e atribuímos o resultado à variável `resultado`. Ao imprimir o valor de `resultado`, obtemos `10`, que é o dobro de `5`.\n",
    "\n",
    "As lambda functions são especialmente úteis quando precisamos de uma função simples e rápida, que pode ser usada em situações em que a definição formal de uma função com `def` seria excessivamente verbosa ou desnecessária. Elas são frequentemente usadas como argumentos em outras funções, como `map()`, `filter()` e `sort()`, onde uma função simples é necessária para manipular ou transformar dados.\n",
    "\n",
    "Aqui está um exemplo de uso da lambda function com a função `map()` para multiplicar todos os elementos de uma lista por 2:\n",
    "\n",
    "```python\n",
    "numeros = [1, 2, 3, 4, 5]\n",
    "resultado = map(lambda x: x * 2, numeros)\n",
    "print(list(resultado))  # Output: [2, 4, 6, 8, 10]\n",
    "```\n",
    "\n",
    "Nesse exemplo, usamos a lambda function como o primeiro argumento da função `map()`, passando-a juntamente com a lista `numeros`. A função `map()` aplica a lambda function a cada elemento da lista e retorna um iterador com os resultados. Para visualizar os resultados como uma lista, usamos a função `list()`.\n",
    "\n",
    "As lambda functions oferecem uma maneira conveniente de criar funções simples e expressivas em Python, evitando a necessidade de definir uma função completa usando `def`. No entanto, é importante usá-las com moderação e bom senso, pois a legibilidade do código pode ser comprometida se forem usadas de forma excessiva ou em contextos mais complexos."
   ]
  },
  {
   "cell_type": "markdown",
   "id": "950c0a16",
   "metadata": {},
   "source": [
    "# OOP"
   ]
  },
  {
   "cell_type": "markdown",
   "id": "0a821a00",
   "metadata": {},
   "source": [
    "A Programação Orientada a Objetos (POO) é um paradigma de programação que organiza o código em torno de objetos, que são instâncias de classes. É uma abordagem que se concentra na representação de conceitos do mundo real como objetos e suas interações.\n",
    "\n",
    "Na POO, as classes são estruturas que definem as propriedades e comportamentos dos objetos. As propriedades são representadas por meio de atributos (variáveis) e os comportamentos são definidos por meio de métodos (funções). As classes servem como modelos ou \"planos\" para criar objetos específicos.\n",
    "\n",
    "A POO é baseada em quatro princípios fundamentais:\n",
    "\n",
    "1. **Encapsulamento**: É o conceito de ocultar os detalhes internos de um objeto e fornecer uma interface para interagir com ele. Os objetos encapsulam seus dados e métodos, permitindo que sejam usados sem conhecimento direto de sua implementação interna.\n",
    "\n",
    "2. **Herança**: É um mecanismo que permite criar classes baseadas em outras classes existentes. A herança permite a reutilização de código e a definição de hierarquias de classes, onde as classes filhas herdam as propriedades e comportamentos das classes pais.\n",
    "\n",
    "3. **Polimorfismo**: É a capacidade de um objeto se comportar de diferentes maneiras com base no contexto em que é usado. Permite tratar objetos de classes diferentes de maneira uniforme, desde que compartilhem um comportamento comum.\n",
    "\n",
    "4. **Abstração**: É o processo de simplificar complexidades, representando apenas as informações relevantes e essenciais. Na POO, a abstração é alcançada por meio das classes e seus métodos, fornecendo uma visão simplificada dos objetos.\n",
    "\n",
    "A POO oferece várias vantagens, incluindo modularidade, reutilização de código, legibilidade, manutenibilidade e escalabilidade. Ela permite a criação de programas mais estruturados e organizados, facilitando o desenvolvimento e a manutenção de grandes projetos.\n",
    "\n",
    "Aqui está um exemplo simples de uma classe em Python que representa um carro:\n",
    "\n",
    "```python\n",
    "class Carro:\n",
    "    def __init__(self, marca, modelo):\n",
    "        self.marca = marca\n",
    "        self.modelo = modelo\n",
    "        self.velocidade = 0\n",
    "    \n",
    "    def acelerar(self, valor):\n",
    "        self.velocidade += valor\n",
    "    \n",
    "    def frear(self, valor):\n",
    "        self.velocidade -= valor\n",
    "\n",
    "# Criando uma instância da classe Carro\n",
    "meu_carro = Carro(\"Toyota\", \"Corolla\")\n",
    "\n",
    "# Acessando os atributos e chamando os métodos do objeto carro\n",
    "print(meu_carro.marca)  # Output: \"Toyota\"\n",
    "print(meu_carro.modelo)  # Output: \"Corolla\"\n",
    "meu_carro.acelerar(50)\n",
    "print(meu_carro.velocidade)  # Output: 50\n",
    "meu_carro.frear(20)\n",
    "print(meu_carro.velocidade)  # Output: 30\n",
    "```\n",
    "\n",
    "Neste exemplo, a classe `Carro` tem os atributos `marca`, `modelo` e `velocidade`, e os métodos `acelerar` e `frear`. Ao criar uma instância da classe (`meu_carro`), podemos acessar seus atributos e chamar seus métodos para interagir com o objeto.\n",
    "\n",
    "A Programação Orientada a Objetos é uma abordagem poderosa que permite modelar problemas\n",
    "\n",
    " complexos de forma mais intuitiva, organizada e flexível. Ela é amplamente utilizada em muitas linguagens de programação para desenvolver aplicativos e sistemas de software de todos os tamanhos e complexidades."
   ]
  },
  {
   "cell_type": "markdown",
   "id": "ba9cd21d",
   "metadata": {},
   "source": [
    "## Classes"
   ]
  },
  {
   "cell_type": "markdown",
   "id": "32d7cf92",
   "metadata": {},
   "source": [
    "## Inheritance"
   ]
  },
  {
   "cell_type": "markdown",
   "id": "52839123",
   "metadata": {},
   "source": [
    "## Methods, Dunder"
   ]
  },
  {
   "cell_type": "markdown",
   "id": "323a3c80",
   "metadata": {},
   "source": [
    "# Modules"
   ]
  },
  {
   "cell_type": "markdown",
   "id": "3a01108d",
   "metadata": {},
   "source": [
    "## Builtin"
   ]
  },
  {
   "cell_type": "markdown",
   "id": "90207eb6",
   "metadata": {},
   "source": [
    "## Custom"
   ]
  },
  {
   "cell_type": "markdown",
   "id": "45ef747a",
   "metadata": {},
   "source": [
    "# Package Manegers"
   ]
  },
  {
   "cell_type": "markdown",
   "id": "1f39e255",
   "metadata": {},
   "source": [
    "## PyPi"
   ]
  },
  {
   "cell_type": "markdown",
   "id": "2b9c7119",
   "metadata": {},
   "source": [
    "## Pip"
   ]
  },
  {
   "cell_type": "markdown",
   "id": "59c7817b",
   "metadata": {},
   "source": [
    "## Conda"
   ]
  },
  {
   "cell_type": "markdown",
   "id": "d83509a9",
   "metadata": {},
   "source": [
    "# List Comprehensions"
   ]
  },
  {
   "cell_type": "markdown",
   "id": "189ea810",
   "metadata": {},
   "source": [
    "# Generator Expressions"
   ]
  },
  {
   "cell_type": "markdown",
   "id": "fb85e728",
   "metadata": {},
   "source": [
    "# Paradigms"
   ]
  }
 ],
 "metadata": {
  "kernelspec": {
   "display_name": "Python 3 (ipykernel)",
   "language": "python",
   "name": "python3"
  },
  "language_info": {
   "codemirror_mode": {
    "name": "ipython",
    "version": 3
   },
   "file_extension": ".py",
   "mimetype": "text/x-python",
   "name": "python",
   "nbconvert_exporter": "python",
   "pygments_lexer": "ipython3",
   "version": "3.10.6"
  },
  "toc": {
   "base_numbering": 1,
   "nav_menu": {},
   "number_sections": true,
   "sideBar": true,
   "skip_h1_title": false,
   "title_cell": "Table of Contents",
   "title_sidebar": "Contents",
   "toc_cell": false,
   "toc_position": {
    "height": "calc(100% - 180px)",
    "left": "10px",
    "top": "150px",
    "width": "341.484px"
   },
   "toc_section_display": true,
   "toc_window_display": true
  },
  "varInspector": {
   "cols": {
    "lenName": 16,
    "lenType": 16,
    "lenVar": 40
   },
   "kernels_config": {
    "python": {
     "delete_cmd_postfix": "",
     "delete_cmd_prefix": "del ",
     "library": "var_list.py",
     "varRefreshCmd": "print(var_dic_list())"
    },
    "r": {
     "delete_cmd_postfix": ") ",
     "delete_cmd_prefix": "rm(",
     "library": "var_list.r",
     "varRefreshCmd": "cat(var_dic_list()) "
    }
   },
   "types_to_exclude": [
    "module",
    "function",
    "builtin_function_or_method",
    "instance",
    "_Feature"
   ],
   "window_display": false
  }
 },
 "nbformat": 4,
 "nbformat_minor": 5
}
