{
 "cells": [
  {
   "cell_type": "markdown",
   "id": "d5612ff7",
   "metadata": {},
   "source": [
    "# Data Structures and Algorithms"
   ]
  },
  {
   "cell_type": "markdown",
   "id": "25dc9533",
   "metadata": {},
   "source": [
    "# Arrays e linked lists"
   ]
  },
  {
   "cell_type": "markdown",
   "id": "0a9b38f5",
   "metadata": {},
   "source": [
    "Arrays e linked lists são duas estruturas de dados amplamente utilizadas na programação. Ambas têm características distintas e são adequadas para diferentes situações. Aqui está uma explicação sobre cada uma delas, suas características, principais diferenças, vantagens e desvantagens:\n",
    "\n",
    "**Array:**\n",
    "- O array é uma estrutura de dados que armazena elementos do mesmo tipo em uma sequência contígua de memória*.\n",
    "- Os elementos em um array são acessados por meio de um índice baseado em zero.\n",
    "- Arrays têm um tamanho fixo definido durante a sua criação.\n",
    "- Eles oferecem acesso rápido aos elementos, uma vez que o acesso direto por índice é possível.\n",
    "- Os elementos em um array podem ser facilmente percorridos usando loops.\n",
    "- Arrays são eficientes em termos de uso de memória, pois ocupam um espaço contíguo na memória.\n",
    "- No entanto, a inserção e remoção de elementos no meio de um array podem ser ineficientes, pois exigem realocação e cópia de elementos.\n",
    "\n",
    "Uma sequência contígua de memória é um conceito em programação que se refere a uma região contígua de memória onde os elementos de uma estrutura de dados são armazenados de forma sequencial, ocupando posições de memória adjacentes.\n",
    "\n",
    "Em uma sequência contígua de memória, os elementos são armazenados um após o outro, ocupando posições consecutivas de memória. Isso significa que cada elemento da estrutura de dados tem um endereço de memória que é calculado a partir do endereço base da sequência contígua e do tamanho de cada elemento.\n",
    "\n",
    "Um exemplo comum de uma sequência contígua de memória é um array. Os elementos de um array são armazenados de forma contígua na memória, com cada elemento ocupando uma posição de memória após o outro. Os elementos são acessados por meio de índices que representam a posição relativa na sequência contígua de memória.\n",
    "\n",
    "A principal vantagem de uma sequência contígua de memória é o acesso rápido aos elementos por meio de cálculos de endereço simples. Uma vez que o endereço base e o tamanho dos elementos são conhecidos, o acesso direto a qualquer elemento pode ser feito em tempo constante, usando aritmética de ponteiros simples.\n",
    "\n",
    "No entanto, uma desvantagem das sequências contíguas de memória é que o tamanho da estrutura de dados é fixo, ou seja, deve ser definido antecipadamente e não pode ser alterado dinamicamente. Além disso, a inserção e remoção de elementos no meio de uma sequência contígua de memória podem ser ineficientes, pois exigem mover e realocar elementos.\n",
    "\n",
    "É importante observar que nem todas as estruturas de dados utilizam sequências contíguas de memória. Por exemplo, linked lists não são sequências contíguas de memória, pois seus elementos são armazenados em nós separados, que podem estar localizados em diferentes posições de memória e são conectados por meio de ponteiros.\n",
    "\n",
    "**Linked List:**\n",
    "- A linked list é uma estrutura de dados composta por nós, onde cada nó contém um valor e um ponteiro para o próximo nó.\n",
    "- Os nós em uma linked list não estão necessariamente armazenados em uma sequência contígua de memória, pois eles são ligados por meio de ponteiros.\n",
    "- Os elementos em uma linked list podem ser acessados sequencialmente, começando pelo nó inicial e seguindo os ponteiros para os próximos nós.\n",
    "- Linked lists podem ter um tamanho dinâmico, pois os nós podem ser adicionados ou removidos facilmente.\n",
    "- A inserção e remoção de elementos em uma linked list podem ser mais eficientes do que em um array, especialmente no caso de inserções e remoções no meio da lista.\n",
    "- No entanto, o acesso direto a um elemento em uma linked list é mais lento do que em um array, pois requer percorrer a lista sequencialmente.\n",
    "- Linked lists podem consumir um pouco mais de memória do que os arrays, devido à necessidade de armazenar ponteiros para os próximos nós.\n",
    "\n",
    "**Principais diferenças:**\n",
    "- Arrays são estruturas de dados estáticas, com tamanho fixo, enquanto linked lists são estruturas de dados dinâmicas, com tamanho variável.\n",
    "- Arrays oferecem acesso direto aos elementos por meio de índices, enquanto linked lists exigem percorrer a lista sequencialmente para acessar um elemento específico.\n",
    "- Inserção e remoção de elementos no meio de um array podem ser ineficientes, enquanto linked lists são mais eficientes para essas operações.\n",
    "\n",
    "**Vantagens do Array:**\n",
    "- Acesso rápido aos elementos por meio de índices.\n",
    "- Eficiência em termos de uso de memória.\n",
    "\n",
    "**Desvantagens do Array:**\n",
    "- Tamanho fixo durante a criação.\n",
    "- Inserção e remoção ineficientes no meio da estrutura.\n",
    "\n",
    "**Vantagens da Linked List:**\n",
    "- Tamanho dinâmico, pode crescer ou diminuir conforme necessário.\n",
    "- Eficiência na inserção e remoção de elementos no meio da lista.\n",
    "\n",
    "**Desvantagens da Linked List:**\n",
    "- Acesso mais lento aos elementos, exigindo percorrer a lista sequencialmente.\n",
    "- Uso um pouco maior de memória devido aos ponteiros adicionais.\n",
    "\n",
    "Em resumo, arrays são mais adequados quando o tamanho é conhecido antecipadamente e quando o acesso rápido e direto aos elementos é necessário. Linked lists são mais adequadas quando o tamanho é variável e quando inserção e remoção eficientes no meio da lista são necessárias. A escolha entre arrays e linked lists depende das necessidades específicas do problema e das operações que serão realizadas com a estrutura de dados."
   ]
  },
  {
   "cell_type": "markdown",
   "id": "eb0d516f",
   "metadata": {},
   "source": [
    "# Heaps, stacks e queues  (pendente o heap)"
   ]
  },
  {
   "cell_type": "markdown",
   "id": "5267a8a3",
   "metadata": {
    "ExecuteTime": {
     "end_time": "2023-06-03T11:27:38.935157Z",
     "start_time": "2023-06-03T11:27:38.932819Z"
    }
   },
   "source": [
    "**Pesquisa Linear**: A pesquisa linear percorre uma lista de elementos um por um até encontrar o valor desejado."
   ]
  },
  {
   "cell_type": "code",
   "execution_count": 2,
   "id": "2eb6421d",
   "metadata": {
    "ExecuteTime": {
     "end_time": "2023-06-03T11:28:05.397595Z",
     "start_time": "2023-06-03T11:28:05.394463Z"
    }
   },
   "outputs": [
    {
     "name": "stdout",
     "output_type": "stream",
     "text": [
      "O valor 5 foi encontrado no índice 3.\n"
     ]
    }
   ],
   "source": [
    "def pesquisa_linear(lista, valor):\n",
    "    for i in range(len(lista)):\n",
    "        if lista[i] == valor:\n",
    "            return i  # Retorna o índice onde o valor foi encontrado\n",
    "    return -1  # Retorna -1 se o valor não for encontrado\n",
    "\n",
    "numeros = [4, 2, 8, 5, 1, 6]\n",
    "valor_procurado = 5\n",
    "\n",
    "indice = pesquisa_linear(numeros, valor_procurado)\n",
    "if indice != -1:\n",
    "    print(f\"O valor {valor_procurado} foi encontrado no índice {indice}.\")\n",
    "else:\n",
    "    print(f\"O valor {valor_procurado} não foi encontrado na lista.\")"
   ]
  },
  {
   "cell_type": "markdown",
   "id": "200a502e",
   "metadata": {},
   "source": [
    "**Ordenação por Seleção**: A ordenação por seleção encontra o menor elemento em uma lista e o coloca na posição correta, repetindo esse processo até que a lista esteja ordenada."
   ]
  },
  {
   "cell_type": "code",
   "execution_count": 3,
   "id": "b4993e0d",
   "metadata": {
    "ExecuteTime": {
     "end_time": "2023-06-03T11:33:31.803915Z",
     "start_time": "2023-06-03T11:33:31.798290Z"
    }
   },
   "outputs": [
    {
     "data": {
      "text/plain": [
       "[1, 2, 4, 5, 6, 8]"
      ]
     },
     "execution_count": 3,
     "metadata": {},
     "output_type": "execute_result"
    }
   ],
   "source": [
    "def ordenacao_selecao(lista):\n",
    "    for i in range(len(lista)):\n",
    "        indice_min = i\n",
    "        for j in range(i+1, len(lista)):\n",
    "            if lista[j] < lista[indice_min]:\n",
    "                indice_min = j\n",
    "        lista[i], lista[indice_min] = lista[indice_min], lista[i]\n",
    "\n",
    "numeros = [4, 2, 8, 5, 1, 6]\n",
    "ordenacao_selecao(numeros)\n",
    "numeros  # Output: [1, 2, 4, 5, 6, 8]"
   ]
  },
  {
   "cell_type": "markdown",
   "id": "483364b4",
   "metadata": {},
   "source": [
    "A função ordenacao_selecao recebe uma lista como argumento. Essa função implementa o algoritmo de ordenação por seleção.\n",
    "\n",
    "``for i in range(len(lista)):``: O loop externo percorre a lista da esquerda para a direita, selecionando cada elemento como um ponto de partida para encontrar o menor elemento restante.\n",
    "\n",
    "``indice_min = i``: Inicializa a variável indice_min com o valor do índice atual do loop externo. Essa variável armazenará o índice do menor elemento encontrado.\n",
    "\n",
    "``for j in range(i+1, len(lista)):``: O loop interno percorre a lista a partir do próximo elemento após i, comparando-o com os elementos restantes.\n",
    "\n",
    "``if lista[j] < lista[indice_min]:``: Verifica se o elemento atual (lista[j]) é menor do que o elemento armazenado no índice mínimo (lista[indice_min]).\n",
    "\n",
    "``indice_min = j``: Se o elemento atual for menor, atualiza o valor do indice_min com o índice do novo elemento mínimo.\n",
    "\n",
    "``lista[i], lista[indice_min] = lista[indice_min], lista[i]``: Realiza a troca de posição entre o elemento atual (lista[i]) e o menor elemento encontrado (lista[indice_min]). Essa troca coloca o menor elemento na posição correta da lista."
   ]
  },
  {
   "cell_type": "markdown",
   "id": "a4041021",
   "metadata": {},
   "source": [
    "**Pilha** (Stacks): Uma pilha é uma estrutura de dados em que o último elemento adicionado é o primeiro a ser removido (LIFO - Last In, First Out)."
   ]
  },
  {
   "cell_type": "code",
   "execution_count": 4,
   "id": "e582602a",
   "metadata": {
    "ExecuteTime": {
     "end_time": "2023-06-03T11:39:32.634171Z",
     "start_time": "2023-06-03T11:39:32.629974Z"
    }
   },
   "outputs": [
    {
     "name": "stdout",
     "output_type": "stream",
     "text": [
      "3\n",
      "2\n",
      "1\n"
     ]
    }
   ],
   "source": [
    "class Pilha:\n",
    "    def __init__(self):\n",
    "        self.items = []\n",
    "\n",
    "    def vazia(self):\n",
    "        return len(self.items) == 0\n",
    "\n",
    "    def empilhar(self, item):\n",
    "        self.items.append(item)\n",
    "\n",
    "    def desempilhar(self):\n",
    "        if self.vazia():\n",
    "            return None\n",
    "        return self.items.pop()\n",
    "\n",
    "pilha = Pilha()\n",
    "pilha.empilhar(1)\n",
    "pilha.empilhar(2)\n",
    "pilha.empilhar(3)\n",
    "print(pilha.desempilhar())  # Output: 3\n",
    "print(pilha.desempilhar())  # Output: 2\n",
    "print(pilha.desempilhar())  # Output: 1"
   ]
  },
  {
   "cell_type": "markdown",
   "id": "b0a55168",
   "metadata": {},
   "source": [
    "**Fila** (Queue): Uma fila é uma estrutura de dados em que o primeiro elemento adicionado é o primeiro a ser removido (FIFO - First In, First Out)."
   ]
  },
  {
   "cell_type": "code",
   "execution_count": 5,
   "id": "47a27cfa",
   "metadata": {
    "ExecuteTime": {
     "end_time": "2023-06-03T11:41:30.202143Z",
     "start_time": "2023-06-03T11:41:30.198167Z"
    }
   },
   "outputs": [
    {
     "name": "stdout",
     "output_type": "stream",
     "text": [
      "1\n",
      "2\n",
      "3\n"
     ]
    }
   ],
   "source": [
    "class Fila:\n",
    "    def __init__(self):\n",
    "        self.items = []\n",
    "\n",
    "    def vazia(self):\n",
    "        return len(self.items) == 0\n",
    "\n",
    "    def enfileirar(self, item):\n",
    "        self.items.append(item)\n",
    "\n",
    "    def desenfileirar(self):\n",
    "        if self.vazia():\n",
    "            return None\n",
    "        return self.items.pop(0)\n",
    "\n",
    "fila = Fila()\n",
    "fila.enfileirar(1)\n",
    "fila.enfileirar(2)\n",
    "fila.enfileirar(3)\n",
    "print(fila.desenfileirar())  # Output: 1\n",
    "print(fila.desenfileirar())  # Output: 2\n",
    "print(fila.desenfileirar())  # Output: 3"
   ]
  },
  {
   "cell_type": "markdown",
   "id": "9162fd2f",
   "metadata": {},
   "source": [
    "**Heap**: É uma estrutura de dados chamada \"heap binário\" ou \"fila de prioridade\". É uma árvore binária especial em que o valor em cada nó é maior ou igual ao valor em seus nós filhos (no caso de um heap máximo) ou menor ou igual (no caso de um heap mínimo). A propriedade de ordenação em um heap permite que seja usado eficientemente para implementar algoritmos de fila de prioridade, onde os elementos com maior (ou menor) prioridade são acessados primeiro.\n",
    "\n",
    "A biblioteca padrão do Python inclui o módulo `heapq`, que fornece funções para criar e manipular heaps."
   ]
  },
  {
   "cell_type": "code",
   "execution_count": 1,
   "id": "040f97fb",
   "metadata": {
    "ExecuteTime": {
     "end_time": "2023-06-03T13:40:34.882559Z",
     "start_time": "2023-06-03T13:40:34.876284Z"
    }
   },
   "outputs": [
    {
     "name": "stdout",
     "output_type": "stream",
     "text": [
      "[1, 3, 8, 5]\n",
      "1\n",
      "[3, 5, 8]\n"
     ]
    }
   ],
   "source": [
    "import heapq\n",
    "\n",
    "# Criando um heap mínimo vazio\n",
    "heap = []\n",
    "\n",
    "# Adicionando elementos ao heap\n",
    "heapq.heappush(heap, 5)\n",
    "heapq.heappush(heap, 3)\n",
    "heapq.heappush(heap, 8)\n",
    "heapq.heappush(heap, 1)\n",
    "\n",
    "print(heap)  # Output: [1, 3, 8, 5]\n",
    "\n",
    "# Acessando o elemento de menor valor\n",
    "menor = heapq.heappop(heap)\n",
    "print(menor)  # Output: 1\n",
    "print(heap)  # Output: [3, 5, 8]"
   ]
  },
  {
   "cell_type": "code",
   "execution_count": 15,
   "id": "9a69bc7d",
   "metadata": {
    "ExecuteTime": {
     "end_time": "2023-06-03T13:59:11.298828Z",
     "start_time": "2023-06-03T13:59:11.292494Z"
    }
   },
   "outputs": [
    {
     "name": "stdout",
     "output_type": "stream",
     "text": [
      "[1, 3, 8, 5]\n",
      "1\n",
      "[3, 5, 8]\n"
     ]
    }
   ],
   "source": [
    "import heapq\n",
    "\n",
    "# Criando um heap mínimo vazio\n",
    "heap = []\n",
    "\n",
    "# Adicionando elementos ao heap\n",
    "heapq.heappush(heap, 5)\n",
    "heapq.heappush(heap, 3)\n",
    "heapq.heappush(heap, 8)\n",
    "heapq.heappush(heap, 1)\n",
    "\n",
    "print(heap)  # Output: [1, 3, 8, 5]\n",
    "\n",
    "# Acessando o elemento de menor valor\n",
    "menor = heapq.heappop(heap)\n",
    "\n",
    "print(menor)  # Output: 1\n",
    "print(heap)  # Output: [3, 5, 8]"
   ]
  },
  {
   "cell_type": "code",
   "execution_count": 6,
   "id": "622656f9",
   "metadata": {
    "ExecuteTime": {
     "end_time": "2023-06-03T13:55:03.616639Z",
     "start_time": "2023-06-03T13:55:03.603694Z"
    }
   },
   "outputs": [
    {
     "data": {
      "text/plain": [
       "8"
      ]
     },
     "execution_count": 6,
     "metadata": {},
     "output_type": "execute_result"
    }
   ],
   "source": [
    "heap[-1]"
   ]
  },
  {
   "cell_type": "code",
   "execution_count": 12,
   "id": "5c45ccb2",
   "metadata": {
    "ExecuteTime": {
     "end_time": "2023-06-03T13:58:09.666817Z",
     "start_time": "2023-06-03T13:58:09.657719Z"
    }
   },
   "outputs": [
    {
     "name": "stdout",
     "output_type": "stream",
     "text": [
      "[8, 3, 5, 1]\n",
      "-8\n",
      "[1, 3, 5]\n"
     ]
    }
   ],
   "source": [
    "import heapq\n",
    "\n",
    "# Criando um heap máximo vazio\n",
    "heap = []\n",
    "\n",
    "# Adicionando elementos ao heap\n",
    "heapq.heappush(heap, -5)\n",
    "heapq.heappush(heap, -3)\n",
    "heapq.heappush(heap, -8)\n",
    "heapq.heappush(heap, -1)\n",
    "\n",
    "# Convertendo o heap para um heap máximo\n",
    "heap = [-item for item in heap]\n",
    "\n",
    "print(heap)  # Output: [-1, -3, -8, -5]\n",
    "\n",
    "# Acessando o elemento de maior valor\n",
    "maior = -heapq.heappop(heap)\n",
    "print(maior)  # Output: 8\n",
    "print(heap)  # Output: [-5, -3, -1]"
   ]
  },
  {
   "cell_type": "markdown",
   "id": "350d36a9",
   "metadata": {},
   "source": [
    "Neste exemplo, importamos o módulo heapq. Em seguida, criamos um heap mínimo vazio chamado heap. Usamos a função heappush para adicionar elementos ao heap. Cada vez que um elemento é adicionado, a propriedade de ordenação do heap é mantida. Por fim, usamos a função heappop para remover e retornar o elemento de menor valor do heap.\n",
    "\n",
    "O resultado é um heap mínimo representado por uma lista em que **os elementos estão organizados de forma que o elemento de menor valor esteja sempre na posição 0**. O heap é atualizado automaticamente após cada operação de inserção ou remoção.\n",
    "\n",
    "O módulo heapq também fornece outras funções úteis, como heapify para transformar uma lista em um heap, heappushpop para inserir um elemento e retornar o menor elemento, heapreplace para substituir o menor elemento por um novo elemento e muitas outras.\n",
    "\n",
    "É possível criar um heap em Python usando apenas a estrutura de dados de lista e algumas manipulações."
   ]
  },
  {
   "cell_type": "code",
   "execution_count": 2,
   "id": "8173541c",
   "metadata": {
    "ExecuteTime": {
     "end_time": "2023-06-03T13:42:51.597458Z",
     "start_time": "2023-06-03T13:42:51.583673Z"
    }
   },
   "outputs": [
    {
     "name": "stdout",
     "output_type": "stream",
     "text": [
      "[1, 3, 8, 5]\n",
      "1\n",
      "[3, 5, 8]\n"
     ]
    }
   ],
   "source": [
    "def heapify(arr):\n",
    "    n = len(arr)\n",
    "    for i in range(n//2 - 1, -1, -1):\n",
    "        heapify_down(arr, n, i)\n",
    "\n",
    "def heapify_down(arr, n, i):\n",
    "    smallest = i\n",
    "    left = 2*i + 1\n",
    "    right = 2*i + 2\n",
    "\n",
    "    if left < n and arr[left] < arr[smallest]:\n",
    "        smallest = left\n",
    "\n",
    "    if right < n and arr[right] < arr[smallest]:\n",
    "        smallest = right\n",
    "\n",
    "    if smallest != i:\n",
    "        arr[i], arr[smallest] = arr[smallest], arr[i]\n",
    "        heapify_down(arr, n, smallest)\n",
    "\n",
    "def heappop(arr):\n",
    "    if not arr:\n",
    "        return None\n",
    "\n",
    "    arr[0], arr[-1] = arr[-1], arr[0]\n",
    "    smallest = arr.pop()\n",
    "    heapify_down(arr, len(arr), 0)\n",
    "    return smallest\n",
    "\n",
    "def heappush(arr, item):\n",
    "    arr.append(item)\n",
    "    n = len(arr)\n",
    "    i = n - 1\n",
    "\n",
    "    while i > 0:\n",
    "        parent = (i - 1) // 2\n",
    "        if arr[parent] > arr[i]:\n",
    "            arr[parent], arr[i] = arr[i], arr[parent]\n",
    "            i = parent\n",
    "        else:\n",
    "            break\n",
    "\n",
    "# Criando um heap mínimo vazio\n",
    "heap = []\n",
    "\n",
    "# Adicionando elementos ao heap\n",
    "heappush(heap, 5)\n",
    "heappush(heap, 3)\n",
    "heappush(heap, 8)\n",
    "heappush(heap, 1)\n",
    "\n",
    "print(heap)  # Output: [1, 3, 8, 5]\n",
    "\n",
    "# Acessando o elemento de menor valor\n",
    "menor = heappop(heap)\n",
    "print(menor)  # Output: 1\n",
    "\n",
    "print(heap)  # Output: [3, 5, 8]"
   ]
  },
  {
   "cell_type": "markdown",
   "id": "090cedba",
   "metadata": {},
   "source": [
    "Neste exemplo, criamos funções para heapify (transformar uma lista em um heap) e heappop (remover e retornar o elemento de menor valor do heap). Também criamos a função heappush para adicionar elementos ao heap.\n",
    "\n",
    "Em seguida, usamos as funções heappush para adicionar elementos ao heap. A função heapify é usada internamente para garantir que a propriedade de ordenação do heap seja mantida após cada operação.\n",
    "\n",
    "O resultado é um heap mínimo representado por uma lista, onde o elemento de menor valor está sempre na posição 0. As funções heappush e heappop garantem que a propriedade de ordenação do heap seja mantida ao adicionar ou remover elementos.\n",
    "\n",
    "Este exemplo ilustra como implementar um heap mínimo usando apenas a estrutura de dados de lista e algumas manipulações. No entanto, é importante notar que a biblioteca heapq da biblioteca padrão do Python oferece uma implementação otimizada e eficiente de heaps, recomendada para uso em produção."
   ]
  },
  {
   "cell_type": "markdown",
   "id": "f5185908",
   "metadata": {},
   "source": [
    "Heaps têm várias aplicações úteis em ciência da computação e algoritmos. Algumas das principais aplicações de heaps incluem:\n",
    "\n",
    "1. Filas de prioridade: Heaps são frequentemente usados para implementar filas de prioridade, onde os elementos são acessados ​​com base em suas prioridades. Os elementos são adicionados à fila com uma determinada prioridade e o elemento de maior (ou menor) prioridade pode ser removido eficientemente usando as operações de heap.\n",
    "\n",
    "2. Algoritmo de ordenação heapsort: Heapsort é um algoritmo de ordenação eficiente que utiliza um heap para classificar os elementos em ordem crescente ou decrescente. Ele possui uma complexidade de tempo O(n log n) no pior caso.\n",
    "\n",
    "3. Algoritmo de seleção do k-ésimo elemento: Heaps podem ser usados para encontrar o k-ésimo maior (ou menor) elemento em uma coleção de elementos em tempo linear O(n), onde n é o tamanho da coleção. Isso é feito construindo um heap e executando k operações de remoção do elemento de maior (ou menor) prioridade.\n",
    "\n",
    "4. Algoritmo de Prim e Kruskal para árvores mínimas de grafos: Em algoritmos de árvore mínima, como o algoritmo de Prim e o algoritmo de Kruskal, heaps são usados para selecionar arestas com custos mínimos à medida que a árvore mínima é construída.\n",
    "\n",
    "5. Algoritmo de Dijkstra para caminhos mais curtos: O algoritmo de Dijkstra é um algoritmo amplamente utilizado para encontrar o caminho mais curto entre dois vértices em um grafo ponderado. Heaps são usados para selecionar o vértice com a menor distância à medida que o algoritmo é executado.\n",
    "\n",
    "Essas são apenas algumas das aplicações comuns de heaps na ciência da computação. Heaps também são usados em outras áreas, como algoritmos de compactação de dados, algoritmos de processamento de eventos e algoritmos de agendamento, onde a prioridade é uma consideração importante."
   ]
  },
  {
   "cell_type": "markdown",
   "id": "dcfb7316",
   "metadata": {},
   "source": [
    "# Hash Tables"
   ]
  },
  {
   "cell_type": "markdown",
   "id": "6311bac6",
   "metadata": {},
   "source": [
    "Uma Hash Table, também conhecida como tabela hash, é uma estrutura de dados que mapeia chaves para valores por meio de uma função hash. Ela é projetada para fornecer acesso rápido e eficiente aos elementos armazenados, permitindo a inserção, recuperação e remoção de elementos em tempo constante em média.\n",
    "\n",
    "Uma Hash Table consiste em um array de \"buckets\" (compartimentos) e uma função hash. A função hash recebe uma chave como entrada e gera um valor numérico chamado de \"hash code\". Esse hash code é então mapeado para um índice no array, determinando o compartimento onde o elemento correspondente será armazenado.\n",
    "\n",
    "Quando ocorre uma operação de inserção, a função hash é aplicada à chave do elemento, determinando o índice do compartimento onde ele será armazenado. Se houver colisões, ou seja, se dois elementos tiverem o mesmo hash code e forem mapeados para o mesmo índice, técnicas como encadeamento ou sondagem linear são usadas para lidar com essas colisões e permitir o armazenamento de múltiplos elementos no mesmo compartimento.\n",
    "\n",
    "Vantagens de uma Hash Table:\n",
    "- Acesso rápido: Através da função hash, é possível obter o índice de um elemento de forma eficiente, permitindo o acesso direto aos valores armazenados.\n",
    "- Inserção, recuperação e remoção eficientes: Em média, essas operações têm complexidade de tempo constante.\n",
    "- Flexibilidade no tamanho: O tamanho da Hash Table pode ser ajustado dinamicamente para acomodar um número variável de elementos.\n",
    "\n",
    "Desvantagens de uma Hash Table:\n",
    "- Colisões: Em casos de colisão, é necessário usar técnicas de resolução de colisões, o que pode afetar o desempenho.\n",
    "- Consumo de memória: A Hash Table pode consumir mais memória em comparação com outras estruturas de dados devido ao espaço alocado para armazenar os buckets e lidar com colisões.\n",
    "\n",
    "Exemplo de Hash Table em Python usando o dicionário:"
   ]
  },
  {
   "cell_type": "code",
   "execution_count": 2,
   "id": "0f5a0fb3",
   "metadata": {
    "ExecuteTime": {
     "end_time": "2023-06-05T21:45:42.594063Z",
     "start_time": "2023-06-05T21:45:42.591052Z"
    }
   },
   "outputs": [
    {
     "name": "stdout",
     "output_type": "stream",
     "text": [
      "valor1\n",
      "valor2\n",
      "valor3\n",
      "novo_valor\n"
     ]
    }
   ],
   "source": [
    "# Criação de uma Hash Table (dicionário)\n",
    "hash_table = {}\n",
    "\n",
    "# Inserção de elementos\n",
    "hash_table[\"chave1\"] = \"valor1\"\n",
    "hash_table[\"chave2\"] = \"valor2\"\n",
    "hash_table[\"chave3\"] = \"valor3\"\n",
    "\n",
    "# Recuperação de valores\n",
    "print(hash_table[\"chave1\"])  # Output: valor1\n",
    "print(hash_table[\"chave2\"])  # Output: valor2\n",
    "print(hash_table[\"chave3\"])  # Output: valor3\n",
    "\n",
    "# Atualização de valor\n",
    "hash_table[\"chave2\"] = \"novo_valor\"\n",
    "print(hash_table[\"chave2\"])  # Output: novo_valor\n",
    "\n",
    "# Remoção de elemento\n",
    "del hash_table[\"chave3\"]\n",
    "hash_table.get(\"chave3\")  # Output: None"
   ]
  },
  {
   "cell_type": "markdown",
   "id": "46492a52",
   "metadata": {},
   "source": [
    "Neste exemplo, utilizamos o dicionário em Python para criar uma Hash Table. Os elementos são inseridos no dicionário associando uma chave a um valor. Através da chave, é possível recuperar o valor correspondente. A atualização de um valor é feita atribuindo um novo valor à chave existente. A remoção de um elemento é feita usando a palavra-chave `del`."
   ]
  },
  {
   "cell_type": "markdown",
   "id": "4d041d4d",
   "metadata": {},
   "source": [
    "# Binary Search Trees"
   ]
  },
  {
   "cell_type": "markdown",
   "id": "0c423f00",
   "metadata": {},
   "source": [
    "Binary Search Tree (BST), ou Árvore de Busca Binária, é uma estrutura de dados que organiza seus elementos de forma hierárquica, onde cada nó possui um valor e dois nós filhos: um nó à esquerda e um nó à direita. A propriedade fundamental de uma BST é que o valor de cada nó à esquerda é menor do que o valor do nó pai, e o valor de cada nó à direita é maior do que o valor do nó pai.\n",
    "\n",
    "Essa propriedade de ordenação facilita a busca eficiente em uma BST. Ao comparar o valor buscado com o valor do nó atual, é possível decidir se a busca deve continuar na subárvore esquerda ou direita, eliminando a necessidade de percorrer todos os elementos da árvore.\n",
    "\n",
    "Exemplo de implementação de uma BST em Python:"
   ]
  },
  {
   "cell_type": "code",
   "execution_count": 3,
   "id": "ca670913",
   "metadata": {
    "ExecuteTime": {
     "end_time": "2023-06-05T22:11:03.691458Z",
     "start_time": "2023-06-05T22:11:03.683605Z"
    }
   },
   "outputs": [],
   "source": [
    "class Node:\n",
    "    def __init__(self, value):\n",
    "        self.value = value\n",
    "        self.left = None\n",
    "        self.right = None\n",
    "\n",
    "class BinarySearchTree:\n",
    "    def __init__(self):\n",
    "        self.root = None\n",
    "\n",
    "    def insert(self, value):\n",
    "        if self.root is None:\n",
    "            self.root = Node(value)\n",
    "        else:\n",
    "            self._insert_recursive(self.root, value)\n",
    "\n",
    "    def _insert_recursive(self, current_node, value):\n",
    "        if value < current_node.value:\n",
    "            if current_node.left is None:\n",
    "                current_node.left = Node(value)\n",
    "            else:\n",
    "                self._insert_recursive(current_node.left, value)\n",
    "        elif value > current_node.value:\n",
    "            if current_node.right is None:\n",
    "                current_node.right = Node(value)\n",
    "            else:\n",
    "                self._insert_recursive(current_node.right, value)\n",
    "\n",
    "    def search(self, value):\n",
    "        return self._search_recursive(self.root, value)\n",
    "\n",
    "    def _search_recursive(self, current_node, value):\n",
    "        if current_node is None or current_node.value == value:\n",
    "            return current_node\n",
    "        if value < current_node.value:\n",
    "            return self._search_recursive(current_node.left, value)\n",
    "        else:\n",
    "            return self._search_recursive(current_node.right, value)"
   ]
  },
  {
   "cell_type": "markdown",
   "id": "92024e38",
   "metadata": {},
   "source": [
    "Neste exemplo, primeiro definimos a classe Node que representa cada nó da árvore, contendo um valor e referências para os nós esquerdo e direito. Em seguida, temos a classe BinarySearchTree que representa a árvore binária de busca em si, com métodos para inserção (insert) e busca (search).\n",
    "\n",
    "Na inserção, verificamos se a raiz (root) está vazia. Se estiver vazia, criamos um novo nó com o valor fornecido e o definimos como raiz. Caso contrário, chamamos o método ``_insert_recursive`` para inserir o valor recursivamente na posição adequada, seguindo a propriedade da árvore binária de busca.\n",
    "\n",
    "Na busca, utilizamos o método ``_search_recursive`` para procurar o valor fornecido na árvore binária de busca. Se o nó atual for nulo ou o valor do nó atual corresponder ao valor buscado, retornamos o nó atual. Caso contrário, comparamos o valor buscado com o valor do nó atual e continuamos a busca na subárvore esquerda ou direita, dependendo do resultado da comparação."
   ]
  },
  {
   "cell_type": "code",
   "execution_count": 4,
   "id": "90c070e5",
   "metadata": {
    "ExecuteTime": {
     "end_time": "2023-06-05T22:18:43.317891Z",
     "start_time": "2023-06-05T22:18:43.315396Z"
    }
   },
   "outputs": [
    {
     "name": "stdout",
     "output_type": "stream",
     "text": [
      "<__main__.Node object at 0x7faa3689d960>\n",
      "None\n"
     ]
    }
   ],
   "source": [
    "bst = BinarySearchTree()\n",
    "\n",
    "# Inserção de valores\n",
    "bst.insert(10)\n",
    "bst.insert(5)\n",
    "bst.insert(15)\n",
    "bst.insert(2)\n",
    "bst.insert(7)\n",
    "\n",
    "# Busca de valores\n",
    "print(bst.search(7))  # Output: <__main__.Node object at 0x7f83b2c11eb0>\n",
    "print(bst.search(20))  # Output: None"
   ]
  },
  {
   "cell_type": "code",
   "execution_count": 17,
   "id": "c3ebedff",
   "metadata": {
    "ExecuteTime": {
     "end_time": "2023-06-05T22:30:53.684705Z",
     "start_time": "2023-06-05T22:30:53.678952Z"
    }
   },
   "outputs": [
    {
     "data": {
      "text/plain": [
       "15"
      ]
     },
     "execution_count": 17,
     "metadata": {},
     "output_type": "execute_result"
    }
   ],
   "source": [
    "bst.search(10).right.value"
   ]
  },
  {
   "cell_type": "markdown",
   "id": "aab64df7",
   "metadata": {},
   "source": [
    "No exemplo de uso, criamos uma instância de BinarySearchTree chamada bst. Em seguida, inserimos os valores 10, 5, 15, 2 e 7 na árvore usando o método insert. Por fim, realizamos uma busca pelos valores 7 e 20 usando o método search e exibimos o resultado. O valor 7 é encontrado na árvore e um objeto ``Node`` correspondente é retornado, enquanto o valor 20 não é encontrado e o valor retornado é ``None``.\n",
    "\n",
    "No exemplo em que a busca pelo valor 7 é realizada, o valor é encontrado na árvore e, portanto, o objeto ``Node`` que contém o valor 7 é retornado. É importante observar que o objeto retornado não é apenas o valor 7, mas sim o nó que contém esse valor e todas as suas informações associadas (por exemplo, os nós filhos, se existirem).\n",
    "\n",
    "Essa abordagem permite obter acesso aos nós correspondentes aos valores buscados e realizar outras operações ou manipulações nos nós, se necessário."
   ]
  },
  {
   "cell_type": "markdown",
   "id": "af4ed142",
   "metadata": {},
   "source": [
    "Em termos de árvores binárias de busca (Binary Search Trees - BST), os conceitos de balanced (equilibrada) e unbalanced (desequilibrada) referem-se à distribuição dos nós na árvore e ao grau de desigualdade na altura dos ramos.\n",
    "\n",
    "Uma árvore binária de busca é considerada balanced quando a diferença de altura entre seus ramos esquerdo e direito é relativamente pequena. Isso significa que a árvore é bem balanceada e a busca por um elemento é mais eficiente, pois é necessário percorrer um número mínimo de nós para encontrar um valor específico.\n",
    "\n",
    "Por outro lado, uma árvore binária de busca unbalanced é aquela em que a diferença de altura entre os ramos esquerdo e direito é significativa. Isso resulta em um desequilíbrio na estrutura da árvore, com um lado da árvore contendo mais nós do que o outro. A busca em uma árvore desequilibrada pode se tornar ineficiente, pois pode ser necessário percorrer um grande número de nós para encontrar um valor específico.\n",
    "\n",
    "A importância de ter uma árvore binária de busca balanceada está diretamente relacionada ao desempenho das operações realizadas nessa estrutura de dados. Uma árvore balanceada garante uma busca, inserção e remoção eficientes, com complexidade de tempo média próxima de O(log n), onde n é o número de elementos na árvore. Por outro lado, uma árvore desequilibrada pode levar a um pior caso de complexidade de tempo de O(n), onde n é o número de elementos na árvore.\n",
    "\n",
    "Existem várias técnicas e algoritmos para balancear uma árvore binária de busca, como as árvores AVL, árvores rubro-negras, árvores B, entre outras. Essas estruturas garantem que a diferença de altura entre os ramos esquerdo e direito seja mantida dentro de um limite específico, mantendo a árvore balanceada mesmo após operações de inserção e remoção de elementos.\n",
    "\n",
    "É importante notar que nem todas as aplicações exigem árvores binárias de busca balanceadas. Em alguns casos, uma árvore desequilibrada pode ser suficiente ou até mesmo desejável, dependendo dos requisitos do problema e das operações que serão realizadas na estrutura de dados."
   ]
  },
  {
   "cell_type": "markdown",
   "id": "77543d40",
   "metadata": {},
   "source": [
    "**Traversing (ou percorrer)** uma árvore refere-se ao ato de visitar todos os nós da árvore em uma determinada ordem. É uma operação comum e fundamental em estruturas de dados baseadas em árvores, permitindo acessar, processar ou exibir os elementos da árvore de maneira sistemática.\n",
    "\n",
    "Existem diferentes métodos de percorrer uma árvore, cada um definindo uma ordem específica na qual os nós são visitados. Os métodos mais comuns de percurso em árvores são:\n",
    "\n",
    "1. **Pré-ordem (pre-order traversal):** Neste método, o nó raiz é visitado primeiro, seguido pela visita recursiva dos nós filhos da esquerda para a direita. A ordem de visitação é: raiz, filho da esquerda, filho da direita.\n",
    "2. **Em ordem (in-order traversal):** Neste método, os nós são visitados em ordem crescente. A visita ocorre primeiro no nó filho da esquerda, depois na raiz e, por último, no nó filho da direita. A ordem de visitação é: filho da esquerda, raiz, filho da direita.\n",
    "3. **Pós-ordem (post-order traversal):** Neste método, a visita ocorre primeiro nos nós filhos da esquerda e direita, e só depois na raiz. A ordem de visitação é: filho da esquerda, filho da direita, raiz.\n",
    "4. **Nível a nível (level-order traversal):** Neste método, a visita ocorre nível por nível, da esquerda para a direita. Primeiro, a raiz é visitada, seguida pelos nós do nível 1, depois do nível 2 e assim por diante.\n",
    "\n",
    "Cada método de percurso tem sua utilidade e aplicação específica. Dependendo do problema em questão, é possível escolher o método mais adequado para acessar ou processar os elementos da árvore na ordem desejada.\n",
    "\n",
    "A escolha do método de percurso também depende da estrutura da árvore e dos requisitos do problema. Por exemplo, em árvores binárias de busca, o percurso em ordem resulta em uma ordem crescente dos elementos. Já em árvores genéricas, como árvores de expressão, os métodos de pré-ordem, em ordem e pós-ordem são amplamente utilizados para avaliar a expressão.\n",
    "\n",
    "A aplicação correta de um método de percurso em árvores é essencial para realizar operações eficientes e obter os resultados desejados."
   ]
  },
  {
   "cell_type": "markdown",
   "id": "c23c2509",
   "metadata": {},
   "source": [
    "# Recursion"
   ]
  },
  {
   "cell_type": "markdown",
   "id": "c4004fb1",
   "metadata": {},
   "source": [
    "Recursion (recursão) é um conceito em programação em que uma função chama a si mesma durante sua execução. Em outras palavras, é a prática de resolver problemas dividindo-os em casos menores e resolvendo cada caso menor usando a mesma função recursiva.\n",
    "\n",
    "Quando uma função é chamada recursivamente, ela cria uma nova instância de si mesma na pilha de chamadas, com novos conjuntos de parâmetros. Cada chamada recursiva resolve uma instância menor do problema, até que seja alcançado um caso base que não requer mais recursão. A partir daí, as chamadas recursivas começam a retornar, combinando os resultados e resolvendo o problema original.\n",
    "\n",
    "A recursão pode ser uma técnica poderosa para resolver problemas complexos, permitindo uma solução elegante e concisa. No entanto, é importante definir casos base corretos para evitar a recursão infinita, bem como considerar a eficiência e o consumo de recursos ao usar a recursão em problemas grandes.\n",
    "\n",
    "Aqui está um exemplo clássico de função recursiva que calcula o fatorial de um número:"
   ]
  },
  {
   "cell_type": "code",
   "execution_count": null,
   "id": "72ac576d",
   "metadata": {},
   "outputs": [],
   "source": [
    "```python\n",
    "def factorial(n):\n",
    "    if n == 0:\n",
    "        return 1\n",
    "    else:\n",
    "        return n * factorial(n-1)\n",
    "```\n",
    "\n",
    "Neste exemplo, a função `factorial` é definida de forma recursiva. Se o número `n` for igual a zero, a função retorna 1, que é o caso base. Caso contrário, a função calcula o fatorial de `n` multiplicando `n` pelo fatorial do número `n-1`. A chamada recursiva para `factorial(n-1)` resolve o problema para um caso menor, e assim por diante, até atingir o caso base.\n",
    "\n",
    "Outro exemplo é a função recursiva que imprime os números de 1 a n:\n",
    "\n",
    "```python\n",
    "def print_numbers(n):\n",
    "    if n > 0:\n",
    "        print_numbers(n-1)\n",
    "        print(n)\n",
    "```\n",
    "\n",
    "Neste exemplo, a função `print_numbers` imprime os números de 1 a n de forma recursiva. Primeiro, a função faz uma chamada recursiva para imprimir os números de 1 a n-1. Em seguida, imprime o número n. Essa abordagem resulta na impressão dos números em ordem crescente.\n",
    "\n",
    "Esses exemplos ilustram como a recursão pode ser usada para resolver problemas de forma elegante e intuitiva, dividindo-os em casos menores. No entanto, é importante ter cuidado ao usar a recursão, garantindo que os casos base sejam definidos corretamente e que a recursão termine em algum momento para evitar loops infinitos."
   ]
  },
  {
   "cell_type": "markdown",
   "id": "6d7136c7",
   "metadata": {},
   "source": [
    "# Sorting Algorithms"
   ]
  }
 ],
 "metadata": {
  "kernelspec": {
   "display_name": "Python 3 (ipykernel)",
   "language": "python",
   "name": "python3"
  },
  "language_info": {
   "codemirror_mode": {
    "name": "ipython",
    "version": 3
   },
   "file_extension": ".py",
   "mimetype": "text/x-python",
   "name": "python",
   "nbconvert_exporter": "python",
   "pygments_lexer": "ipython3",
   "version": "3.10.6"
  },
  "toc": {
   "base_numbering": 1,
   "nav_menu": {},
   "number_sections": true,
   "sideBar": true,
   "skip_h1_title": false,
   "title_cell": "Table of Contents",
   "title_sidebar": "Contents",
   "toc_cell": false,
   "toc_position": {},
   "toc_section_display": true,
   "toc_window_display": true
  },
  "varInspector": {
   "cols": {
    "lenName": 16,
    "lenType": 16,
    "lenVar": 40
   },
   "kernels_config": {
    "python": {
     "delete_cmd_postfix": "",
     "delete_cmd_prefix": "del ",
     "library": "var_list.py",
     "varRefreshCmd": "print(var_dic_list())"
    },
    "r": {
     "delete_cmd_postfix": ") ",
     "delete_cmd_prefix": "rm(",
     "library": "var_list.r",
     "varRefreshCmd": "cat(var_dic_list()) "
    }
   },
   "types_to_exclude": [
    "module",
    "function",
    "builtin_function_or_method",
    "instance",
    "_Feature"
   ],
   "window_display": false
  }
 },
 "nbformat": 4,
 "nbformat_minor": 5
}
