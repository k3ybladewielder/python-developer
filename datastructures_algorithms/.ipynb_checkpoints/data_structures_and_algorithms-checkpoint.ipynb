{
 "cells": [
  {
   "cell_type": "markdown",
   "id": "f997f6bd",
   "metadata": {},
   "source": [
    "# Algoritmos"
   ]
  },
  {
   "cell_type": "markdown",
   "id": "202c2d9a",
   "metadata": {},
   "source": [
    "# Arrays e linked lists"
   ]
  },
  {
   "cell_type": "markdown",
   "id": "80da5b25",
   "metadata": {},
   "source": [
    "# Heaps, stacks e queues  (pendente o heap)"
   ]
  },
  {
   "cell_type": "markdown",
   "id": "095ffc62",
   "metadata": {
    "ExecuteTime": {
     "end_time": "2023-06-03T11:27:38.935157Z",
     "start_time": "2023-06-03T11:27:38.932819Z"
    }
   },
   "source": [
    "**Pesquisa Linear**: A pesquisa linear percorre uma lista de elementos um por um até encontrar o valor desejado."
   ]
  },
  {
   "cell_type": "code",
   "execution_count": 2,
   "id": "129ef769",
   "metadata": {
    "ExecuteTime": {
     "end_time": "2023-06-03T11:28:05.397595Z",
     "start_time": "2023-06-03T11:28:05.394463Z"
    }
   },
   "outputs": [
    {
     "name": "stdout",
     "output_type": "stream",
     "text": [
      "O valor 5 foi encontrado no índice 3.\n"
     ]
    }
   ],
   "source": [
    "def pesquisa_linear(lista, valor):\n",
    "    for i in range(len(lista)):\n",
    "        if lista[i] == valor:\n",
    "            return i  # Retorna o índice onde o valor foi encontrado\n",
    "    return -1  # Retorna -1 se o valor não for encontrado\n",
    "\n",
    "numeros = [4, 2, 8, 5, 1, 6]\n",
    "valor_procurado = 5\n",
    "\n",
    "indice = pesquisa_linear(numeros, valor_procurado)\n",
    "if indice != -1:\n",
    "    print(f\"O valor {valor_procurado} foi encontrado no índice {indice}.\")\n",
    "else:\n",
    "    print(f\"O valor {valor_procurado} não foi encontrado na lista.\")"
   ]
  },
  {
   "cell_type": "markdown",
   "id": "13278701",
   "metadata": {},
   "source": [
    "**Ordenação por Seleção**: A ordenação por seleção encontra o menor elemento em uma lista e o coloca na posição correta, repetindo esse processo até que a lista esteja ordenada."
   ]
  },
  {
   "cell_type": "code",
   "execution_count": 3,
   "id": "71e316c0",
   "metadata": {
    "ExecuteTime": {
     "end_time": "2023-06-03T11:33:31.803915Z",
     "start_time": "2023-06-03T11:33:31.798290Z"
    }
   },
   "outputs": [
    {
     "data": {
      "text/plain": [
       "[1, 2, 4, 5, 6, 8]"
      ]
     },
     "execution_count": 3,
     "metadata": {},
     "output_type": "execute_result"
    }
   ],
   "source": [
    "def ordenacao_selecao(lista):\n",
    "    for i in range(len(lista)):\n",
    "        indice_min = i\n",
    "        for j in range(i+1, len(lista)):\n",
    "            if lista[j] < lista[indice_min]:\n",
    "                indice_min = j\n",
    "        lista[i], lista[indice_min] = lista[indice_min], lista[i]\n",
    "\n",
    "numeros = [4, 2, 8, 5, 1, 6]\n",
    "ordenacao_selecao(numeros)\n",
    "numeros  # Output: [1, 2, 4, 5, 6, 8]"
   ]
  },
  {
   "cell_type": "markdown",
   "id": "6c1ec7e4",
   "metadata": {},
   "source": [
    "A função ordenacao_selecao recebe uma lista como argumento. Essa função implementa o algoritmo de ordenação por seleção.\n",
    "\n",
    "for i in range(len(lista)):: O loop externo percorre a lista da esquerda para a direita, selecionando cada elemento como um ponto de partida para encontrar o menor elemento restante.\n",
    "\n",
    "indice_min = i: Inicializa a variável indice_min com o valor do índice atual do loop externo. Essa variável armazenará o índice do menor elemento encontrado.\n",
    "\n",
    "for j in range(i+1, len(lista)):: O loop interno percorre a lista a partir do próximo elemento após i, comparando-o com os elementos restantes.\n",
    "\n",
    "if lista[j] < lista[indice_min]:: Verifica se o elemento atual (lista[j]) é menor do que o elemento armazenado no índice mínimo (lista[indice_min]).\n",
    "\n",
    "indice_min = j: Se o elemento atual for menor, atualiza o valor do indice_min com o índice do novo elemento mínimo.\n",
    "\n",
    "lista[i], lista[indice_min] = lista[indice_min], lista[i]: Realiza a troca de posição entre o elemento atual (lista[i]) e o menor elemento encontrado (lista[indice_min]). Essa troca coloca o menor elemento na posição correta da lista."
   ]
  },
  {
   "cell_type": "markdown",
   "id": "c2ff44b2",
   "metadata": {},
   "source": [
    "**Pilha** (Stacks): Uma pilha é uma estrutura de dados em que o último elemento adicionado é o primeiro a ser removido (LIFO - Last In, First Out)."
   ]
  },
  {
   "cell_type": "code",
   "execution_count": 4,
   "id": "b200c353",
   "metadata": {
    "ExecuteTime": {
     "end_time": "2023-06-03T11:39:32.634171Z",
     "start_time": "2023-06-03T11:39:32.629974Z"
    }
   },
   "outputs": [
    {
     "name": "stdout",
     "output_type": "stream",
     "text": [
      "3\n",
      "2\n",
      "1\n"
     ]
    }
   ],
   "source": [
    "class Pilha:\n",
    "    def __init__(self):\n",
    "        self.items = []\n",
    "\n",
    "    def vazia(self):\n",
    "        return len(self.items) == 0\n",
    "\n",
    "    def empilhar(self, item):\n",
    "        self.items.append(item)\n",
    "\n",
    "    def desempilhar(self):\n",
    "        if self.vazia():\n",
    "            return None\n",
    "        return self.items.pop()\n",
    "\n",
    "pilha = Pilha()\n",
    "pilha.empilhar(1)\n",
    "pilha.empilhar(2)\n",
    "pilha.empilhar(3)\n",
    "print(pilha.desempilhar())  # Output: 3\n",
    "print(pilha.desempilhar())  # Output: 2\n",
    "print(pilha.desempilhar())  # Output: 1"
   ]
  },
  {
   "cell_type": "markdown",
   "id": "0fd2ebf8",
   "metadata": {},
   "source": [
    "**Fila** (Queue): Uma fila é uma estrutura de dados em que o primeiro elemento adicionado é o primeiro a ser removido (FIFO - First In, First Out)."
   ]
  },
  {
   "cell_type": "code",
   "execution_count": 5,
   "id": "5886da1c",
   "metadata": {
    "ExecuteTime": {
     "end_time": "2023-06-03T11:41:30.202143Z",
     "start_time": "2023-06-03T11:41:30.198167Z"
    }
   },
   "outputs": [
    {
     "name": "stdout",
     "output_type": "stream",
     "text": [
      "1\n",
      "2\n",
      "3\n"
     ]
    }
   ],
   "source": [
    "class Fila:\n",
    "    def __init__(self):\n",
    "        self.items = []\n",
    "\n",
    "    def vazia(self):\n",
    "        return len(self.items) == 0\n",
    "\n",
    "    def enfileirar(self, item):\n",
    "        self.items.append(item)\n",
    "\n",
    "    def desenfileirar(self):\n",
    "        if self.vazia():\n",
    "            return None\n",
    "        return self.items.pop(0)\n",
    "\n",
    "fila = Fila()\n",
    "fila.enfileirar(1)\n",
    "fila.enfileirar(2)\n",
    "fila.enfileirar(3)\n",
    "print(fila.desenfileirar())  # Output: 1\n",
    "print(fila.desenfileirar())  # Output: 2\n",
    "print(fila.desenfileirar())  # Output: 3"
   ]
  },
  {
   "cell_type": "markdown",
   "id": "3cf2148d",
   "metadata": {},
   "source": [
    "**Heap**: É uma estrutura de dados chamada \"heap binário\" ou \"fila de prioridade\". É uma árvore binária especial em que o valor em cada nó é maior ou igual ao valor em seus nós filhos (no caso de um heap máximo) ou menor ou igual (no caso de um heap mínimo). A propriedade de ordenação em um heap permite que seja usado eficientemente para implementar algoritmos de fila de prioridade, onde os elementos com maior (ou menor) prioridade são acessados primeiro.\n",
    "\n",
    "A biblioteca padrão do Python inclui o módulo `heapq`, que fornece funções para criar e manipular heaps."
   ]
  },
  {
   "cell_type": "code",
   "execution_count": 1,
   "id": "b355d787",
   "metadata": {
    "ExecuteTime": {
     "end_time": "2023-06-03T13:40:34.882559Z",
     "start_time": "2023-06-03T13:40:34.876284Z"
    }
   },
   "outputs": [
    {
     "name": "stdout",
     "output_type": "stream",
     "text": [
      "[1, 3, 8, 5]\n",
      "1\n",
      "[3, 5, 8]\n"
     ]
    }
   ],
   "source": [
    "import heapq\n",
    "\n",
    "# Criando um heap mínimo vazio\n",
    "heap = []\n",
    "\n",
    "# Adicionando elementos ao heap\n",
    "heapq.heappush(heap, 5)\n",
    "heapq.heappush(heap, 3)\n",
    "heapq.heappush(heap, 8)\n",
    "heapq.heappush(heap, 1)\n",
    "\n",
    "print(heap)  # Output: [1, 3, 8, 5]\n",
    "\n",
    "# Acessando o elemento de menor valor\n",
    "menor = heapq.heappop(heap)\n",
    "print(menor)  # Output: 1\n",
    "print(heap)  # Output: [3, 5, 8]"
   ]
  },
  {
   "cell_type": "code",
   "execution_count": 15,
   "id": "1bbdc282",
   "metadata": {
    "ExecuteTime": {
     "end_time": "2023-06-03T13:59:11.298828Z",
     "start_time": "2023-06-03T13:59:11.292494Z"
    }
   },
   "outputs": [
    {
     "name": "stdout",
     "output_type": "stream",
     "text": [
      "[1, 3, 8, 5]\n",
      "1\n",
      "[3, 5, 8]\n"
     ]
    }
   ],
   "source": [
    "import heapq\n",
    "\n",
    "# Criando um heap mínimo vazio\n",
    "heap = []\n",
    "\n",
    "# Adicionando elementos ao heap\n",
    "heapq.heappush(heap, 5)\n",
    "heapq.heappush(heap, 3)\n",
    "heapq.heappush(heap, 8)\n",
    "heapq.heappush(heap, 1)\n",
    "\n",
    "print(heap)  # Output: [1, 3, 8, 5]\n",
    "\n",
    "# Acessando o elemento de menor valor\n",
    "menor = heapq.heappop(heap)\n",
    "\n",
    "print(menor)  # Output: 1\n",
    "print(heap)  # Output: [3, 5, 8]"
   ]
  },
  {
   "cell_type": "code",
   "execution_count": 6,
   "id": "2fd6cbfc",
   "metadata": {
    "ExecuteTime": {
     "end_time": "2023-06-03T13:55:03.616639Z",
     "start_time": "2023-06-03T13:55:03.603694Z"
    }
   },
   "outputs": [
    {
     "data": {
      "text/plain": [
       "8"
      ]
     },
     "execution_count": 6,
     "metadata": {},
     "output_type": "execute_result"
    }
   ],
   "source": [
    "heap[-1]"
   ]
  },
  {
   "cell_type": "code",
   "execution_count": 12,
   "id": "dafc0d23",
   "metadata": {
    "ExecuteTime": {
     "end_time": "2023-06-03T13:58:09.666817Z",
     "start_time": "2023-06-03T13:58:09.657719Z"
    }
   },
   "outputs": [
    {
     "name": "stdout",
     "output_type": "stream",
     "text": [
      "[8, 3, 5, 1]\n",
      "-8\n",
      "[1, 3, 5]\n"
     ]
    }
   ],
   "source": [
    "import heapq\n",
    "\n",
    "# Criando um heap máximo vazio\n",
    "heap = []\n",
    "\n",
    "# Adicionando elementos ao heap\n",
    "heapq.heappush(heap, -5)\n",
    "heapq.heappush(heap, -3)\n",
    "heapq.heappush(heap, -8)\n",
    "heapq.heappush(heap, -1)\n",
    "\n",
    "# Convertendo o heap para um heap máximo\n",
    "heap = [-item for item in heap]\n",
    "\n",
    "print(heap)  # Output: [-1, -3, -8, -5]\n",
    "\n",
    "# Acessando o elemento de maior valor\n",
    "maior = -heapq.heappop(heap)\n",
    "print(maior)  # Output: 8\n",
    "print(heap)  # Output: [-5, -3, -1]"
   ]
  },
  {
   "cell_type": "markdown",
   "id": "34027c4a",
   "metadata": {},
   "source": [
    "Neste exemplo, importamos o módulo heapq. Em seguida, criamos um heap mínimo vazio chamado heap. Usamos a função heappush para adicionar elementos ao heap. Cada vez que um elemento é adicionado, a propriedade de ordenação do heap é mantida. Por fim, usamos a função heappop para remover e retornar o elemento de menor valor do heap.\n",
    "\n",
    "O resultado é um heap mínimo representado por uma lista em que **os elementos estão organizados de forma que o elemento de menor valor esteja sempre na posição 0**. O heap é atualizado automaticamente após cada operação de inserção ou remoção.\n",
    "\n",
    "O módulo heapq também fornece outras funções úteis, como heapify para transformar uma lista em um heap, heappushpop para inserir um elemento e retornar o menor elemento, heapreplace para substituir o menor elemento por um novo elemento e muitas outras.\n",
    "\n",
    "É possível criar um heap em Python usando apenas a estrutura de dados de lista e algumas manipulações."
   ]
  },
  {
   "cell_type": "code",
   "execution_count": 2,
   "id": "b9215b4d",
   "metadata": {
    "ExecuteTime": {
     "end_time": "2023-06-03T13:42:51.597458Z",
     "start_time": "2023-06-03T13:42:51.583673Z"
    }
   },
   "outputs": [
    {
     "name": "stdout",
     "output_type": "stream",
     "text": [
      "[1, 3, 8, 5]\n",
      "1\n",
      "[3, 5, 8]\n"
     ]
    }
   ],
   "source": [
    "def heapify(arr):\n",
    "    n = len(arr)\n",
    "    for i in range(n//2 - 1, -1, -1):\n",
    "        heapify_down(arr, n, i)\n",
    "\n",
    "def heapify_down(arr, n, i):\n",
    "    smallest = i\n",
    "    left = 2*i + 1\n",
    "    right = 2*i + 2\n",
    "\n",
    "    if left < n and arr[left] < arr[smallest]:\n",
    "        smallest = left\n",
    "\n",
    "    if right < n and arr[right] < arr[smallest]:\n",
    "        smallest = right\n",
    "\n",
    "    if smallest != i:\n",
    "        arr[i], arr[smallest] = arr[smallest], arr[i]\n",
    "        heapify_down(arr, n, smallest)\n",
    "\n",
    "def heappop(arr):\n",
    "    if not arr:\n",
    "        return None\n",
    "\n",
    "    arr[0], arr[-1] = arr[-1], arr[0]\n",
    "    smallest = arr.pop()\n",
    "    heapify_down(arr, len(arr), 0)\n",
    "    return smallest\n",
    "\n",
    "def heappush(arr, item):\n",
    "    arr.append(item)\n",
    "    n = len(arr)\n",
    "    i = n - 1\n",
    "\n",
    "    while i > 0:\n",
    "        parent = (i - 1) // 2\n",
    "        if arr[parent] > arr[i]:\n",
    "            arr[parent], arr[i] = arr[i], arr[parent]\n",
    "            i = parent\n",
    "        else:\n",
    "            break\n",
    "\n",
    "# Criando um heap mínimo vazio\n",
    "heap = []\n",
    "\n",
    "# Adicionando elementos ao heap\n",
    "heappush(heap, 5)\n",
    "heappush(heap, 3)\n",
    "heappush(heap, 8)\n",
    "heappush(heap, 1)\n",
    "\n",
    "print(heap)  # Output: [1, 3, 8, 5]\n",
    "\n",
    "# Acessando o elemento de menor valor\n",
    "menor = heappop(heap)\n",
    "print(menor)  # Output: 1\n",
    "\n",
    "print(heap)  # Output: [3, 5, 8]"
   ]
  },
  {
   "cell_type": "markdown",
   "id": "59c7a582",
   "metadata": {},
   "source": [
    "Neste exemplo, criamos funções para heapify (transformar uma lista em um heap) e heappop (remover e retornar o elemento de menor valor do heap). Também criamos a função heappush para adicionar elementos ao heap.\n",
    "\n",
    "Em seguida, usamos as funções heappush para adicionar elementos ao heap. A função heapify é usada internamente para garantir que a propriedade de ordenação do heap seja mantida após cada operação.\n",
    "\n",
    "O resultado é um heap mínimo representado por uma lista, onde o elemento de menor valor está sempre na posição 0. As funções heappush e heappop garantem que a propriedade de ordenação do heap seja mantida ao adicionar ou remover elementos.\n",
    "\n",
    "Este exemplo ilustra como implementar um heap mínimo usando apenas a estrutura de dados de lista e algumas manipulações. No entanto, é importante notar que a biblioteca heapq da biblioteca padrão do Python oferece uma implementação otimizada e eficiente de heaps, recomendada para uso em produção."
   ]
  },
  {
   "cell_type": "markdown",
   "id": "32decbcb",
   "metadata": {},
   "source": [
    "Heaps têm várias aplicações úteis em ciência da computação e algoritmos. Algumas das principais aplicações de heaps incluem:\n",
    "\n",
    "1. Filas de prioridade: Heaps são frequentemente usados para implementar filas de prioridade, onde os elementos são acessados ​​com base em suas prioridades. Os elementos são adicionados à fila com uma determinada prioridade e o elemento de maior (ou menor) prioridade pode ser removido eficientemente usando as operações de heap.\n",
    "\n",
    "2. Algoritmo de ordenação heapsort: Heapsort é um algoritmo de ordenação eficiente que utiliza um heap para classificar os elementos em ordem crescente ou decrescente. Ele possui uma complexidade de tempo O(n log n) no pior caso.\n",
    "\n",
    "3. Algoritmo de seleção do k-ésimo elemento: Heaps podem ser usados para encontrar o k-ésimo maior (ou menor) elemento em uma coleção de elementos em tempo linear O(n), onde n é o tamanho da coleção. Isso é feito construindo um heap e executando k operações de remoção do elemento de maior (ou menor) prioridade.\n",
    "\n",
    "4. Algoritmo de Prim e Kruskal para árvores mínimas de grafos: Em algoritmos de árvore mínima, como o algoritmo de Prim e o algoritmo de Kruskal, heaps são usados para selecionar arestas com custos mínimos à medida que a árvore mínima é construída.\n",
    "\n",
    "5. Algoritmo de Dijkstra para caminhos mais curtos: O algoritmo de Dijkstra é um algoritmo amplamente utilizado para encontrar o caminho mais curto entre dois vértices em um grafo ponderado. Heaps são usados para selecionar o vértice com a menor distância à medida que o algoritmo é executado.\n",
    "\n",
    "Essas são apenas algumas das aplicações comuns de heaps na ciência da computação. Heaps também são usados em outras áreas, como algoritmos de compactação de dados, algoritmos de processamento de eventos e algoritmos de agendamento, onde a prioridade é uma consideração importante."
   ]
  },
  {
   "cell_type": "markdown",
   "id": "1d1145a6",
   "metadata": {},
   "source": [
    "# Hash Tables\n",
    "# Binary Search Trees\n",
    "# Recursion\n",
    "# Sorting Algorithms"
   ]
  }
 ],
 "metadata": {
  "kernelspec": {
   "display_name": "Python 3 (ipykernel)",
   "language": "python",
   "name": "python3"
  },
  "language_info": {
   "codemirror_mode": {
    "name": "ipython",
    "version": 3
   },
   "file_extension": ".py",
   "mimetype": "text/x-python",
   "name": "python",
   "nbconvert_exporter": "python",
   "pygments_lexer": "ipython3",
   "version": "3.10.6"
  },
  "toc": {
   "base_numbering": 1,
   "nav_menu": {},
   "number_sections": true,
   "sideBar": true,
   "skip_h1_title": false,
   "title_cell": "Table of Contents",
   "title_sidebar": "Contents",
   "toc_cell": false,
   "toc_position": {},
   "toc_section_display": true,
   "toc_window_display": false
  },
  "varInspector": {
   "cols": {
    "lenName": 16,
    "lenType": 16,
    "lenVar": 40
   },
   "kernels_config": {
    "python": {
     "delete_cmd_postfix": "",
     "delete_cmd_prefix": "del ",
     "library": "var_list.py",
     "varRefreshCmd": "print(var_dic_list())"
    },
    "r": {
     "delete_cmd_postfix": ") ",
     "delete_cmd_prefix": "rm(",
     "library": "var_list.r",
     "varRefreshCmd": "cat(var_dic_list()) "
    }
   },
   "types_to_exclude": [
    "module",
    "function",
    "builtin_function_or_method",
    "instance",
    "_Feature"
   ],
   "window_display": false
  }
 },
 "nbformat": 4,
 "nbformat_minor": 5
}
