{
 "cells": [
  {
   "cell_type": "markdown",
   "id": "5dfcb21b",
   "metadata": {},
   "source": [
    "# Sintaxe Basica"
   ]
  },
  {
   "cell_type": "markdown",
   "id": "a7a133f0",
   "metadata": {},
   "source": [
    "**Declarando variáveis**"
   ]
  },
  {
   "cell_type": "code",
   "execution_count": 11,
   "id": "8aed90b2",
   "metadata": {
    "ExecuteTime": {
     "end_time": "2023-06-03T11:22:26.656256Z",
     "start_time": "2023-06-03T11:22:26.652548Z"
    }
   },
   "outputs": [],
   "source": [
    "nome = \"João\"  # Uma variável do tipo string\n",
    "idade = 25  # Uma variável do tipo inteiro\n",
    "altura = 1.75  # Uma variável do tipo float"
   ]
  },
  {
   "cell_type": "markdown",
   "id": "e9b7fa35",
   "metadata": {},
   "source": [
    "**Condicionais (if-elif-else)**: \n",
    "Permitem que você execute diferentes blocos de código com base em condições."
   ]
  },
  {
   "cell_type": "code",
   "execution_count": 12,
   "id": "2692798d",
   "metadata": {
    "ExecuteTime": {
     "end_time": "2023-06-03T11:22:26.664034Z",
     "start_time": "2023-06-03T11:22:26.659932Z"
    }
   },
   "outputs": [
    {
     "name": "stdout",
     "output_type": "stream",
     "text": [
      "Você acabou de atingir a maioridade.\n"
     ]
    }
   ],
   "source": [
    "idade = 18\n",
    "if idade < 18:\n",
    "    print(\"Você é menor de idade.\")\n",
    "elif idade == 18:\n",
    "    print(\"Você acabou de atingir a maioridade.\")\n",
    "else:\n",
    "    print(\"Você é maior de idade.\")"
   ]
  },
  {
   "cell_type": "markdown",
   "id": "0fd2b9e4",
   "metadata": {},
   "source": [
    "**Loop while:**\n",
    "Executa um bloco de código repetidamente enquanto uma condição for verdadeira."
   ]
  },
  {
   "cell_type": "code",
   "execution_count": 13,
   "id": "352699ca",
   "metadata": {
    "ExecuteTime": {
     "end_time": "2023-06-03T11:22:26.668443Z",
     "start_time": "2023-06-03T11:22:26.665521Z"
    }
   },
   "outputs": [
    {
     "name": "stdout",
     "output_type": "stream",
     "text": [
      "0\n",
      "1\n",
      "2\n",
      "3\n",
      "4\n"
     ]
    }
   ],
   "source": [
    "contador = 0\n",
    "while contador < 5:\n",
    "    print(contador)\n",
    "    contador += 1"
   ]
  },
  {
   "cell_type": "markdown",
   "id": "a439b68f",
   "metadata": {},
   "source": [
    "**Loop for**: Executa um bloco de código para cada elemento em uma sequência."
   ]
  },
  {
   "cell_type": "code",
   "execution_count": 14,
   "id": "ad28f81e",
   "metadata": {
    "ExecuteTime": {
     "end_time": "2023-06-03T11:22:26.673248Z",
     "start_time": "2023-06-03T11:22:26.669301Z"
    }
   },
   "outputs": [
    {
     "name": "stdout",
     "output_type": "stream",
     "text": [
      "Alice\n",
      "Bob\n",
      "Carlos\n"
     ]
    }
   ],
   "source": [
    "nomes = [\"Alice\", \"Bob\", \"Carlos\"]\n",
    "for nome in nomes:\n",
    "    print(nome)"
   ]
  },
  {
   "cell_type": "markdown",
   "id": "06284466",
   "metadata": {},
   "source": [
    "**Funções**: \n",
    "As funções permitem que você agrupe um bloco de código que pode ser reutilizado. Você pode definir funções personalizadas ou usar funções embutidas fornecidas pelo Python. "
   ]
  },
  {
   "cell_type": "code",
   "execution_count": 15,
   "id": "63666c94",
   "metadata": {
    "ExecuteTime": {
     "end_time": "2023-06-03T11:22:26.677690Z",
     "start_time": "2023-06-03T11:22:26.674200Z"
    }
   },
   "outputs": [
    {
     "name": "stdout",
     "output_type": "stream",
     "text": [
      "Olá, Ana!\n"
     ]
    }
   ],
   "source": [
    "def saudacao(nome):\n",
    "    print(\"Olá, \" + nome + \"!\")\n",
    "\n",
    "saudacao(\"Ana\")"
   ]
  },
  {
   "cell_type": "markdown",
   "id": "062ce0e3",
   "metadata": {
    "ExecuteTime": {
     "end_time": "2023-06-03T12:42:22.877607Z",
     "start_time": "2023-06-03T12:42:22.874823Z"
    }
   },
   "source": [
    "**Typecasting** é o processo de converter um tipo de dado para outro tipo de dado. Em Python, é possível realizar conversões de tipo utilizando funções embutidas, como `int()`, `float()`, `str()`, entre outras. Existem dois tipos de conversões: conversão implícita e conversão explícita."
   ]
  },
  {
   "cell_type": "markdown",
   "id": "049daf81",
   "metadata": {
    "ExecuteTime": {
     "end_time": "2023-06-03T13:11:57.043224Z",
     "start_time": "2023-06-03T13:11:57.038666Z"
    }
   },
   "source": [
    "**Conversão Implícita**: A conversão implícita ocorre automaticamente pelo interpretador, sem a necessidade de intervenção do programador. Ocorre quando dois tipos de dados são combinados em uma expressão e o interpretador realiza a conversão para um tipo compatível. Nesse exemplo, o número inteiro `num_int` é implicitamente convertido para um número de ponto flutuante, para que a soma seja realizada."
   ]
  },
  {
   "cell_type": "code",
   "execution_count": 20,
   "id": "4d644ff3",
   "metadata": {
    "ExecuteTime": {
     "end_time": "2023-06-03T13:12:45.119628Z",
     "start_time": "2023-06-03T13:12:45.114821Z"
    }
   },
   "outputs": [
    {
     "name": "stdout",
     "output_type": "stream",
     "text": [
      "13.5\n"
     ]
    }
   ],
   "source": [
    "num_int = 10\n",
    "num_float = 3.5\n",
    "\n",
    "soma = num_int + num_float  # A conversão implícita ocorre aqui\n",
    "print(soma)  # Output: 13.5"
   ]
  },
  {
   "cell_type": "markdown",
   "id": "3cfc1f89",
   "metadata": {},
   "source": [
    "**Conversão Explícita**: A conversão explícita ocorre quando o programador especifica manualmente a conversão de um tipo de dado para outro usando as funções de conversão embutidas. Nesse exemplo, a string `\"123\"` é convertida explicitamente para um número inteiro usando a função `int()`."
   ]
  },
  {
   "cell_type": "code",
   "execution_count": 21,
   "id": "f81bb015",
   "metadata": {
    "ExecuteTime": {
     "end_time": "2023-06-03T13:13:11.996474Z",
     "start_time": "2023-06-03T13:13:11.992212Z"
    }
   },
   "outputs": [
    {
     "name": "stdout",
     "output_type": "stream",
     "text": [
      "123\n"
     ]
    }
   ],
   "source": [
    "num_str = \"123\"\n",
    "num_int = int(num_str)  # Conversão explícita de str para int\n",
    "print(num_int)  # Output: 123"
   ]
  },
  {
   "cell_type": "markdown",
   "id": "4ddc0513",
   "metadata": {
    "ExecuteTime": {
     "end_time": "2023-06-03T13:13:57.271169Z",
     "start_time": "2023-06-03T13:13:57.264522Z"
    }
   },
   "source": [
    "**Erros e Exceções**: Em Python, quando ocorre um erro durante a execução de um programa, uma exceção é lançada. As exceções são eventos que indicam que algo deu errado no código. Para lidar com exceções, podemos usar a estrutura de controle `try-except`.\n",
    "\n",
    "**try-except**: O bloco `try` é usado para envolver o código onde uma exceção pode ocorrer. Em seguida, o bloco `except` é usado para capturar a exceção e fornecer uma ação alternativa ou tratamento de erro."
   ]
  },
  {
   "cell_type": "code",
   "execution_count": 23,
   "id": "faf07f57",
   "metadata": {
    "ExecuteTime": {
     "end_time": "2023-06-03T13:14:13.871395Z",
     "start_time": "2023-06-03T13:14:13.866580Z"
    }
   },
   "outputs": [
    {
     "name": "stdout",
     "output_type": "stream",
     "text": [
      "Ocorreu um erro de valor inválido.\n"
     ]
    }
   ],
   "source": [
    "try:\n",
    "    num = int(\"abc\")  # Isso gera uma exceção ValueError\n",
    "except ValueError:\n",
    "    print(\"Ocorreu um erro de valor inválido.\")"
   ]
  },
  {
   "cell_type": "markdown",
   "id": "b58185da",
   "metadata": {},
   "source": [
    "Nesse exemplo, a tentativa de converter a string `\"abc\"` para um número inteiro gera uma exceção `ValueError`. O bloco `except` captura essa exceção e imprime uma mensagem de erro personalizada.\n",
    "\n",
    "Além disso, é possível usar a cláusula `else` após o bloco `except` para executar um código caso nenhuma exceção seja lançada, e a cláusula `finally` para executar um código independentemente de ter ocorrido uma exceção ou não.\n",
    "\n",
    "O tratamento de exceções com `try-except` ajuda a evitar que o programa seja interrompido abruptamente por erros, permitindo um controle mais preciso e uma resposta adequada aos problemas que surgem durante a execução."
   ]
  },
  {
   "cell_type": "markdown",
   "id": "b77ac50f",
   "metadata": {},
   "source": [
    "# Funções built-in"
   ]
  },
  {
   "cell_type": "markdown",
   "id": "1b1cf8d2",
   "metadata": {},
   "source": [
    "Python possui uma ampla variedade de funções built-in (funções integradas) que estão disponíveis por padrão no ambiente Python. Aqui estão algumas das principais funções built-in do Python:\n",
    "\n",
    "1. Funções de conversão de tipos:\n",
    "   - `int()`: Converte um valor para um número inteiro.\n",
    "   - `float()`: Converte um valor para um número de ponto flutuante.\n",
    "   - `str()`: Converte um valor para uma string.\n",
    "   - `list()`: Converte um iterável para uma lista.\n",
    "   - `tuple()`: Converte um iterável para uma tupla.\n",
    "   - `dict()`: Cria um dicionário a partir de argumentos chave-valor.\n",
    "\n",
    "2. Funções matemáticas:\n",
    "   - `abs()`: Retorna o valor absoluto de um número.\n",
    "   - `max()`: Retorna o maior valor entre dois ou mais argumentos.\n",
    "   - `min()`: Retorna o menor valor entre dois ou mais argumentos.\n",
    "   - `sum()`: Retorna a soma de um iterável de números.\n",
    "   - `pow()`: Calcula a potência de um número.\n",
    "\n",
    "3. Funções de sequências:\n",
    "   - `len()`: Retorna o comprimento (número de itens) de um objeto iterável.\n",
    "   - `sorted()`: Retorna uma nova lista ordenada a partir de um objeto iterável.\n",
    "   - `reversed()`: Retorna um iterador que percorre os elementos em ordem reversa.\n",
    "   - `enumerate()`: Retorna um iterador de pares índice-valor de um objeto iterável.\n",
    "   - `zip()`: Combina múltiplos iteráveis em uma sequência de tuplas.\n",
    "\n",
    "4. Funções de entrada/saída:\n",
    "   - `print()`: Imprime valores na saída padrão.\n",
    "   - `input()`: Lê uma linha de entrada do usuário.\n",
    "\n",
    "5. Funções de manipulação de strings:\n",
    "   - `len()`: Retorna o comprimento de uma string.\n",
    "   - `str()`: Converte um valor para uma string.\n",
    "   - `format()`: Formata uma string com argumentos.\n",
    "   - `split()`: Divide uma string em uma lista de substrings.\n",
    "   - `join()`: Junta uma lista de strings em uma única string."
   ]
  },
  {
   "cell_type": "markdown",
   "id": "b4b86074",
   "metadata": {},
   "source": [
    "# Estruturas de dados"
   ]
  },
  {
   "cell_type": "markdown",
   "id": "80944f5d",
   "metadata": {},
   "source": [
    "**Listas**: Uma lista é uma coleção ordenada e mutável de elementos."
   ]
  },
  {
   "cell_type": "code",
   "execution_count": 16,
   "id": "5a7d16fd",
   "metadata": {
    "ExecuteTime": {
     "end_time": "2023-06-03T11:22:26.681899Z",
     "start_time": "2023-06-03T11:22:26.678930Z"
    }
   },
   "outputs": [],
   "source": [
    "numeros = [1, 2, 3, 4, 5]"
   ]
  },
  {
   "cell_type": "markdown",
   "id": "bfd3f1b6",
   "metadata": {},
   "source": [
    "**Tuplas**: Semelhante a uma lista, mas é imutável, ou seja, seus elementos não podem ser alterados após a criação."
   ]
  },
  {
   "cell_type": "code",
   "execution_count": 17,
   "id": "3729d51c",
   "metadata": {
    "ExecuteTime": {
     "end_time": "2023-06-03T11:22:26.686092Z",
     "start_time": "2023-06-03T11:22:26.683287Z"
    }
   },
   "outputs": [],
   "source": [
    "coordenadas = (10, 20)"
   ]
  },
  {
   "cell_type": "markdown",
   "id": "9a14a017",
   "metadata": {},
   "source": [
    "**Dicionários**: Uma estrutura de dados que mapeia chaves a valores."
   ]
  },
  {
   "cell_type": "code",
   "execution_count": 18,
   "id": "75f13b7d",
   "metadata": {
    "ExecuteTime": {
     "end_time": "2023-06-03T11:22:26.691194Z",
     "start_time": "2023-06-03T11:22:26.687187Z"
    }
   },
   "outputs": [
    {
     "data": {
      "text/plain": [
       "{'nome': 'João', 'idade': 25}"
      ]
     },
     "execution_count": 18,
     "metadata": {},
     "output_type": "execute_result"
    }
   ],
   "source": [
    "pessoa = {\"nome\": \"João\", \"idade\": 25}\n",
    "pessoa"
   ]
  },
  {
   "cell_type": "markdown",
   "id": "674899b9",
   "metadata": {},
   "source": [
    "**Set**: O conjunto (set) é uma estrutura de dados que armazena elementos únicos e não ordenados. Ele é implementado como uma coleção de elementos, sem permitir duplicatas. Os conjuntos em Python são úteis quando você precisa armazenar uma coleção de itens únicos e deseja executar operações como união, interseção e diferença entre conjuntos de forma eficiente.\n",
    "\n",
    "Neste exemplo, criamos um conjunto chamado frutas contendo algumas frutas. Usamos o método add para adicionar um novo elemento (\"morango\") ao conjunto. Em seguida, verificamos a existência de elementos no conjunto usando o operador in e removemos um elemento (\"laranja\") usando o método remove.\n",
    "\n",
    "Demonstramos também algumas operações com conjuntos. A união de conjuntos é realizada usando o método union, a interseção de conjuntos é realizada com o método intersection e a diferença entre conjuntos é obtida com o método difference.\n",
    "\n",
    "Observe que os conjuntos em Python não mantêm uma ordem específica dos elementos. Cada vez que você executa o código, a ordem de impressão dos elementos pode variar. Além disso, como os conjuntos não permitem elementos duplicados, apenas uma ocorrência de cada elemento é mantida no conjunto."
   ]
  },
  {
   "cell_type": "code",
   "execution_count": 25,
   "id": "5c80624d",
   "metadata": {
    "ExecuteTime": {
     "end_time": "2023-06-03T13:18:54.100754Z",
     "start_time": "2023-06-03T13:18:54.092870Z"
    }
   },
   "outputs": [
    {
     "name": "stdout",
     "output_type": "stream",
     "text": [
      "{'banana', 'laranja', 'abacaxi', 'maçã'}\n",
      "{'laranja', 'maçã', 'abacaxi', 'morango', 'banana'}\n",
      "True\n",
      "False\n",
      "{'maçã', 'abacaxi', 'morango', 'banana'}\n",
      "{'uva', 'pêra', 'abacaxi', 'maçã', 'morango', 'banana'}\n",
      "{'abacaxi'}\n",
      "{'banana', 'maçã', 'morango'}\n"
     ]
    }
   ],
   "source": [
    "frutas = {\"maçã\", \"banana\", \"laranja\", \"abacaxi\"}\n",
    "print(frutas)  # Output: {'abacaxi', 'banana', 'maçã', 'laranja'}\n",
    "\n",
    "# Adicionando um elemento ao conjunto\n",
    "frutas.add(\"morango\")\n",
    "print(frutas)  # Output: {'abacaxi', 'banana', 'maçã', 'laranja', 'morango'}\n",
    "\n",
    "# Verificando a existência de um elemento no conjunto\n",
    "print(\"banana\" in frutas)  # Output: True\n",
    "print(\"uva\" in frutas)  # Output: False\n",
    "\n",
    "# Removendo um elemento do conjunto\n",
    "frutas.remove(\"laranja\")\n",
    "print(frutas)  # Output: {'abacaxi', 'banana', 'maçã', 'morango'}\n",
    "\n",
    "# União de conjuntos\n",
    "outros_frutas = {\"uva\", \"pêra\", \"abacaxi\"}\n",
    "todos_frutas = frutas.union(outros_frutas)\n",
    "print(todos_frutas)  # Output: {'abacaxi', 'banana', 'maçã', 'morango', 'pêra', 'uva'}\n",
    "\n",
    "# Interseção de conjuntos\n",
    "frutas_comuns = frutas.intersection(outros_frutas)\n",
    "print(frutas_comuns)  # Output: {'abacaxi'}\n",
    "\n",
    "# Diferença entre conjuntos\n",
    "frutas_diferentes = frutas.difference(outros_frutas)\n",
    "print(frutas_diferentes)  # Output: {'banana', 'maçã', 'morango'}"
   ]
  },
  {
   "cell_type": "markdown",
   "id": "01f7d426",
   "metadata": {
    "ExecuteTime": {
     "end_time": "2023-06-03T13:21:36.388937Z",
     "start_time": "2023-06-03T13:21:36.386784Z"
    }
   },
   "source": [
    "# POO"
   ]
  },
  {
   "cell_type": "markdown",
   "id": "d7941d50",
   "metadata": {},
   "source": [
    "**Classes**: Uma classe é uma estrutura que define as características e comportamentos de um objeto. Ela serve como um modelo ou plano para a criação de objetos. As classes são compostas por atributos (variáveis) e métodos (funções) que definem o estado e o comportamento dos objetos."
   ]
  },
  {
   "cell_type": "code",
   "execution_count": 1,
   "id": "e46bcc43",
   "metadata": {
    "ExecuteTime": {
     "end_time": "2023-06-03T12:38:22.308944Z",
     "start_time": "2023-06-03T12:38:22.305767Z"
    }
   },
   "outputs": [
    {
     "name": "stdout",
     "output_type": "stream",
     "text": [
      "Olá, meu nome é João e tenho 25 anos.\n"
     ]
    }
   ],
   "source": [
    "class Pessoa:\n",
    "    def __init__(self, nome, idade):\n",
    "        self.nome = nome\n",
    "        self.idade = idade\n",
    "\n",
    "    def apresentar(self):\n",
    "        print(f\"Olá, meu nome é {self.nome} e tenho {self.idade} anos.\")\n",
    "\n",
    "pessoa1 = Pessoa(\"João\", 25)\n",
    "pessoa1.apresentar()  # Output: Olá, meu nome é João e tenho 25 anos."
   ]
  },
  {
   "cell_type": "markdown",
   "id": "f74579f5",
   "metadata": {},
   "source": [
    "**Objetos**: Um objeto é uma instância de uma classe. Ele representa uma entidade real ou abstrata que possui características e comportamentos específicos definidos pela classe. No exemplo anterior, `pessoa1` é um objeto da classe `Pessoa`."
   ]
  },
  {
   "cell_type": "markdown",
   "id": "47500ecf",
   "metadata": {},
   "source": [
    "**Herança**: A herança é um mecanismo que permite criar uma nova classe baseada em uma classe existente, aproveitando seus atributos e métodos. A classe existente é chamada de classe pai ou classe base, e a nova classe é chamada de classe filha ou classe derivada."
   ]
  },
  {
   "cell_type": "code",
   "execution_count": 2,
   "id": "f4e5be58",
   "metadata": {
    "ExecuteTime": {
     "end_time": "2023-06-03T12:40:28.298705Z",
     "start_time": "2023-06-03T12:40:28.296260Z"
    }
   },
   "outputs": [
    {
     "name": "stdout",
     "output_type": "stream",
     "text": [
      "Olá, meu nome é Maria, tenho 20 anos e minha matrícula é 12345.\n"
     ]
    }
   ],
   "source": [
    "class Aluno(Pessoa):\n",
    "    def __init__(self, nome, idade, matricula):\n",
    "        super().__init__(nome, idade)\n",
    "        self.matricula = matricula\n",
    "\n",
    "    def apresentar(self):\n",
    "        print(f\"Olá, meu nome é {self.nome}, tenho {self.idade} anos e minha matrícula é {self.matricula}.\")\n",
    "\n",
    "aluno1 = Aluno(\"Maria\", 20, \"12345\")\n",
    "aluno1.apresentar()  # Output: Olá, meu nome é Maria, tenho 20 anos e minha matrícula é 12345."
   ]
  },
  {
   "cell_type": "markdown",
   "id": "3d708661",
   "metadata": {},
   "source": [
    "**Polimorfismo**: O polimorfismo permite que objetos de classes diferentes sejam tratados de maneira uniforme, ou seja, um objeto pode ser referenciado por meio de uma classe base, mas invocar métodos específicos da classe derivada. O polimorfismo é uma forma de reutilização de código e flexibilidade.\n",
    "\n",
    "Nesse exemplo, a lista `pessoas` contém objetos das classes `Pessoa` e `Aluno`. Mesmo sendo objetos de classes diferentes, eles podem ser tratados de forma polimórfica ao chamar o método `apresentar`, que possui uma implementação diferente para cada classe."
   ]
  },
  {
   "cell_type": "code",
   "execution_count": 3,
   "id": "e9f6b67c",
   "metadata": {
    "ExecuteTime": {
     "end_time": "2023-06-03T12:43:46.488384Z",
     "start_time": "2023-06-03T12:43:46.485952Z"
    }
   },
   "outputs": [
    {
     "name": "stdout",
     "output_type": "stream",
     "text": [
      "Olá, meu nome é João e tenho 25 anos.\n",
      "Olá, meu nome é Maria, tenho 20 anos e minha matrícula é 12345.\n"
     ]
    }
   ],
   "source": [
    "pessoas = [Pessoa(\"João\", 25), Aluno(\"Maria\", 20, \"12345\")]\n",
    "\n",
    "for pessoa in pessoas:\n",
    "    pessoa.apresentar()"
   ]
  },
  {
   "cell_type": "markdown",
   "id": "15e40062",
   "metadata": {},
   "source": [
    "**Encapsulamento**: O encapsulamento é um princípio da orientação a objetos que preconiza a ocultação dos detalhes internos de uma classe e a exposição de uma interface pública para interagir com os objetos. Isso significa que os atributos e métodos internos de uma classe são declarados como privados (não acessíveis diretamente) ou protegidos (acessíveis apenas pelas subclasses). A interação com os objetos ocorre por meio de métodos públicos, que garantem a consistência e integridade dos dados."
   ]
  },
  {
   "cell_type": "code",
   "execution_count": 4,
   "id": "6b8bf4a8",
   "metadata": {
    "ExecuteTime": {
     "end_time": "2023-06-03T12:49:22.709691Z",
     "start_time": "2023-06-03T12:49:22.703757Z"
    }
   },
   "outputs": [
    {
     "name": "stdout",
     "output_type": "stream",
     "text": [
      "1000.0\n",
      "1500.0\n",
      "Saldo insuficiente.\n",
      "700.0\n"
     ]
    },
    {
     "ename": "AttributeError",
     "evalue": "'ContaBancaria' object has no attribute '__numero_conta'",
     "output_type": "error",
     "traceback": [
      "\u001b[0;31m---------------------------------------------------------------------------\u001b[0m",
      "\u001b[0;31mAttributeError\u001b[0m                            Traceback (most recent call last)",
      "\u001b[0;32m/tmp/ipykernel_28864/3411791793.py\u001b[0m in \u001b[0;36m<module>\u001b[0;34m\u001b[0m\n\u001b[1;32m     30\u001b[0m \u001b[0mconta\u001b[0m\u001b[0;34m.\u001b[0m\u001b[0msacar\u001b[0m\u001b[0;34m(\u001b[0m\u001b[0;36m800.0\u001b[0m\u001b[0;34m)\u001b[0m\u001b[0;34m\u001b[0m\u001b[0;34m\u001b[0m\u001b[0m\n\u001b[1;32m     31\u001b[0m \u001b[0mprint\u001b[0m\u001b[0;34m(\u001b[0m\u001b[0mconta\u001b[0m\u001b[0;34m.\u001b[0m\u001b[0mobter_saldo\u001b[0m\u001b[0;34m(\u001b[0m\u001b[0;34m)\u001b[0m\u001b[0;34m)\u001b[0m  \u001b[0;31m# Output: 700.0\u001b[0m\u001b[0;34m\u001b[0m\u001b[0;34m\u001b[0m\u001b[0m\n\u001b[0;32m---> 32\u001b[0;31m \u001b[0mprint\u001b[0m\u001b[0;34m(\u001b[0m\u001b[0mconta\u001b[0m\u001b[0;34m.\u001b[0m\u001b[0m__numero_conta\u001b[0m\u001b[0;34m)\u001b[0m  \u001b[0;31m# Erro: AttributeError: 'ContaBancaria' object has no attribute '__numero_conta'\u001b[0m\u001b[0;34m\u001b[0m\u001b[0;34m\u001b[0m\u001b[0m\n\u001b[0m\u001b[1;32m     33\u001b[0m \u001b[0mprint\u001b[0m\u001b[0;34m(\u001b[0m\u001b[0mconta\u001b[0m\u001b[0;34m)\u001b[0m  \u001b[0;31m# Output: Conta 123456: Saldo = R$700.00\u001b[0m\u001b[0;34m\u001b[0m\u001b[0;34m\u001b[0m\u001b[0m\n",
      "\u001b[0;31mAttributeError\u001b[0m: 'ContaBancaria' object has no attribute '__numero_conta'"
     ]
    }
   ],
   "source": [
    "class ContaBancaria:\n",
    "    def __init__(self, numero_conta, saldo):\n",
    "        self.__numero_conta = numero_conta  # Atributo privado\n",
    "        self.__saldo = saldo  # Atributo privado\n",
    "\n",
    "    def depositar(self, valor):\n",
    "        self.__saldo += valor\n",
    "\n",
    "    def sacar(self, valor):\n",
    "        if valor <= self.__saldo:\n",
    "            self.__saldo -= valor\n",
    "        else:\n",
    "            print(\"Saldo insuficiente.\")\n",
    "\n",
    "    def obter_saldo(self):\n",
    "        return self.__saldo\n",
    "\n",
    "    def __str__(self):\n",
    "        return f\"Conta {self.__numero_conta}: Saldo = R${self.__saldo:.2f}\"\n",
    "\n",
    "\n",
    "conta = ContaBancaria(\"123456\", 1000.0)\n",
    "\n",
    "print(conta.obter_saldo())  # Output: 1000.0\n",
    "\n",
    "conta.depositar(500.0)\n",
    "print(conta.obter_saldo())  # Output: 1500.0\n",
    "\n",
    "conta.sacar(2000.0)  # Output: Saldo insuficiente.\n",
    "conta.sacar(800.0)\n",
    "print(conta.obter_saldo())  # Output: 700.0\n",
    "print(conta.__numero_conta)  # Erro: AttributeError: 'ContaBancaria' object has no attribute '__numero_conta'\n",
    "print(conta)  # Output: Conta 123456: Saldo = R$700.00"
   ]
  },
  {
   "cell_type": "markdown",
   "id": "41c4f38d",
   "metadata": {},
   "source": [
    "Neste exemplo, temos a classe ContaBancaria que representa uma conta bancária. Os atributos __ numero_conta e __ saldo são declarados como privados, usando a convenção de nomenclatura com dois underscores na frente. Isso indica que esses atributos não devem ser acessados diretamente de fora da classe.\n",
    "\n",
    "Os métodos depositar, sacar e obter_saldo são públicos e fornecem uma interface para interagir com os atributos privados. Eles permitem depositar um valor na conta, sacar um valor (verificando se o saldo é suficiente) e obter o saldo atual.\n",
    "\n",
    "O método __ str__ é um método especial que retorna uma representação em string da conta. Ele é invocado quando a função print é usada para imprimir um objeto ContaBancaria.\n",
    "\n",
    "Observe que ao tentar acessar diretamente os atributos privados, como conta.__ numero_conta, é lançado um erro de AttributeError, indicando que o atributo não existe. Isso demonstra o encapsulamento, pois os atributos privados estão protegidos contra acesso direto.\n",
    "\n",
    "No entanto, ainda é possível acessar os atributos privados indiretamente através dos métodos públicos, como conta.obter_saldo(). Isso garante que as operações ocorram dentro dos limites definidos pela classe, mantendo a consistência dos dados.\n",
    "\n",
    "Ao executar o código, você verá as mensagens e valores impressos conforme indicado nos comentários. Isso demonstra o encapsulamento dos atributos privados e a interação com a classe por meio dos métodos públicos."
   ]
  }
 ],
 "metadata": {
  "kernelspec": {
   "display_name": "Python 3 (ipykernel)",
   "language": "python",
   "name": "python3"
  },
  "language_info": {
   "codemirror_mode": {
    "name": "ipython",
    "version": 3
   },
   "file_extension": ".py",
   "mimetype": "text/x-python",
   "name": "python",
   "nbconvert_exporter": "python",
   "pygments_lexer": "ipython3",
   "version": "3.10.6"
  },
  "toc": {
   "base_numbering": 1,
   "nav_menu": {},
   "number_sections": true,
   "sideBar": true,
   "skip_h1_title": false,
   "title_cell": "Table of Contents",
   "title_sidebar": "Contents",
   "toc_cell": false,
   "toc_position": {
    "height": "calc(100% - 180px)",
    "left": "10px",
    "top": "150px",
    "width": "341.484px"
   },
   "toc_section_display": true,
   "toc_window_display": true
  },
  "varInspector": {
   "cols": {
    "lenName": 16,
    "lenType": 16,
    "lenVar": 40
   },
   "kernels_config": {
    "python": {
     "delete_cmd_postfix": "",
     "delete_cmd_prefix": "del ",
     "library": "var_list.py",
     "varRefreshCmd": "print(var_dic_list())"
    },
    "r": {
     "delete_cmd_postfix": ") ",
     "delete_cmd_prefix": "rm(",
     "library": "var_list.r",
     "varRefreshCmd": "cat(var_dic_list()) "
    }
   },
   "types_to_exclude": [
    "module",
    "function",
    "builtin_function_or_method",
    "instance",
    "_Feature"
   ],
   "window_display": false
  }
 },
 "nbformat": 4,
 "nbformat_minor": 5
}
